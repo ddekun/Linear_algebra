{
  "nbformat": 4,
  "nbformat_minor": 0,
  "metadata": {
    "colab": {
      "provenance": [],
      "collapsed_sections": [],
      "authorship_tag": "ABX9TyPAuJ+AbV5/7dkuGGjlCjzq",
      "include_colab_link": true
    },
    "kernelspec": {
      "name": "python3",
      "display_name": "Python 3"
    },
    "language_info": {
      "name": "python"
    }
  },
  "cells": [
    {
      "cell_type": "markdown",
      "metadata": {
        "id": "view-in-github",
        "colab_type": "text"
      },
      "source": [
        "<a href=\"https://colab.research.google.com/github/ddekun/Linear_algebra/blob/lesson4/lesson4/hw4_1_4_2.ipynb\" target=\"_parent\"><img src=\"https://colab.research.google.com/assets/colab-badge.svg\" alt=\"Open In Colab\"/></a>"
      ]
    },
    {
      "cell_type": "markdown",
      "source": [
        "# Системы линейных уравнений. Часть 1"
      ],
      "metadata": {
        "id": "t3yyGI07Je9U"
      }
    },
    {
      "cell_type": "code",
      "source": [
        "import numpy as np\n",
        "import numpy.linalg\n",
        "import scipy.linalg"
      ],
      "metadata": {
        "id": "1_A8NwO2OkO7"
      },
      "execution_count": 8,
      "outputs": []
    },
    {
      "cell_type": "markdown",
      "source": [
        "### __1.__ Решить систему уравнений методом Гаусса:\n",
        "\n",
        "$$\\begin{cases}\n",
        "x_{1}+x_{2}-x_{3}-2x_{4}=0, \\\\\n",
        "2x_{1}+x_{2}-x_{3}+x_{4}=-2, \\\\\n",
        "x_{1}+x_{2}-3x_{3}+x_{4}=4.\n",
        "\\end{cases}$$"
      ],
      "metadata": {
        "id": "QcxDj0TUJaXD"
      }
    },
    {
      "cell_type": "markdown",
      "source": [
        "Система имееn количество уравнений меньшее, чем количество неизвестных,  система является недоопределённой."
      ],
      "metadata": {
        "id": "DJMgKj4jJjmv"
      }
    },
    {
      "cell_type": "markdown",
      "source": [
        "Запишем расширенную матрицу системы:\n",
        "\n",
        "$\\begin{pmatrix}\n",
        "\\left.\\begin{matrix}\n",
        "1 & 1 & -1 & -2\\\\ \n",
        "2 & 1 & -1 & 1 \\\\ \n",
        "1 & 1 & -3 & 1\n",
        "\\end{matrix}\\right|\n",
        "\\begin{matrix}\n",
        "0\\\\ \n",
        "-2\\\\\n",
        "4\n",
        "\\end{matrix}\n",
        "\\end{pmatrix}$"
      ],
      "metadata": {
        "id": "qwT3zri8KYin"
      }
    },
    {
      "cell_type": "markdown",
      "source": [
        "Вычтем из третьей строки первую:\n",
        "\n",
        "$\\begin{pmatrix}\n",
        "\\left.\\begin{matrix}\n",
        "1 & 1 & -1 & -2\\\\ \n",
        "2 & 1 & -1 & 1 \\\\ \n",
        "0 & 0 & -2 & 3\n",
        "\\end{matrix}\\right|\n",
        "\\begin{matrix}\n",
        "0\\\\ \n",
        "-2\\\\\n",
        "4\n",
        "\\end{matrix}\n",
        "\\end{pmatrix}$"
      ],
      "metadata": {
        "id": "UC81Ew3xKuDo"
      }
    },
    {
      "cell_type": "markdown",
      "source": [
        "Вычтем из второй строки удвоенную первую:\n",
        "\n",
        "$\\begin{pmatrix}\n",
        "\\left.\\begin{matrix}\n",
        "1 & 1 & -1 & -2\\\\ \n",
        "0 & -1 & 1 & 5 \\\\ \n",
        "0 & 0 & -2 & 3\n",
        "\\end{matrix}\\right|\n",
        "\\begin{matrix}\n",
        "0\\\\ \n",
        "-2\\\\\n",
        "4\n",
        "\\end{matrix}\n",
        "\\end{pmatrix}$"
      ],
      "metadata": {
        "id": "VW4XCFO0K-ch"
      }
    },
    {
      "cell_type": "markdown",
      "source": [
        "Прибавим вторую строку к первой:\n",
        "\n",
        "$\\begin{pmatrix}\n",
        "\\left.\\begin{matrix}\n",
        "1 & 0 & 0 & 3\\\\ \n",
        "0 & -1 & 1 & 5 \\\\ \n",
        "0 & 0 & -2 & 3\n",
        "\\end{matrix}\\right|\n",
        "\\begin{matrix}\n",
        "-2\\\\ \n",
        "-2\\\\\n",
        "4\n",
        "\\end{matrix}\n",
        "\\end{pmatrix}$"
      ],
      "metadata": {
        "id": "lxhVuUWQLCFU"
      }
    },
    {
      "cell_type": "markdown",
      "source": [
        "Ранг матрицы системы уравнений и ранг расширенной матрицы равны, $rank A=rank\\tilde A=3 \\Rightarrow$\n",
        " система имеет множество решений. Пусть $x_4=c$, тогда:"
      ],
      "metadata": {
        "id": "vrlYaBsTLLUx"
      }
    },
    {
      "cell_type": "markdown",
      "source": [
        "$-2x_{3}+3c=4x_3=-\\frac{4-3c}{2}x_{3}=-2+\\frac{3}{2}c-x_{2}+x_{3}+5c=-2x_2=2+5c-2+\\frac{3}{2}cx_2=\\frac{13}{2}c x_{1}+3c=-2x_1=-2-3c$"
      ],
      "metadata": {
        "id": "nI0pqTNELg-U"
      }
    },
    {
      "cell_type": "markdown",
      "source": [
        "Общее решение системы:\n",
        "\n",
        "$x_1=-2-3cx_2=\\frac{13}{2}cx_{3}=-2+\\frac{3}{2}cx_4=c$"
      ],
      "metadata": {
        "id": "RaXVscEJLllD"
      }
    },
    {
      "cell_type": "markdown",
      "source": [
        "Найдем частное решение при $c=0$, тогда\n",
        "\n",
        "$x_1=-2x_2=0x_3=-2x_4=0$"
      ],
      "metadata": {
        "id": "HGUyKMxQMPRw"
      }
    },
    {
      "cell_type": "markdown",
      "source": [
        "Подставим в систему:\n",
        "\n",
        "$\\begin{cases}\n",
        "-2+0+2-2\\cdot 0=0 \\\\\n",
        "2\\cdot -2+0+2+0=-2 \\\\\n",
        "-2+0-3\\cdot -2+0=4\n",
        "\\end{cases}$"
      ],
      "metadata": {
        "id": "A5eMV49zMcBD"
      }
    },
    {
      "cell_type": "markdown",
      "source": [
        "__2.__ Проверить на совместность и выяснить, сколько решений будет иметь система линейных уравнений:\n",
        "\n",
        "   а) $\\begin{cases}\n",
        "3x_{1}-x_{2}+x_{3}=4, \\\\\n",
        "2x_{1}-5x_{2}-3x_{3}=-17, \\\\\n",
        "x_{1}+x_{2}-x_{3}=0;\n",
        "\\end{cases}$\n"
      ],
      "metadata": {
        "id": "aU6dzd28NAbT"
      }
    },
    {
      "cell_type": "code",
      "source": [
        "A=np.array([[3,-1,1],[2,-5,-3],[1,1,-1]])\n",
        "A1=np.array([[3,-1,1,4],[2,-5,-3,-17],[1,1,-1,0]])\n",
        "print(f'Ранг матрицы системы уравнений: rankA={np.linalg.matrix_rank(A)},\\n'\n",
        "      f'Ранг расширенной матрицы: rankA1={np.linalg.matrix_rank(A1)}')"
      ],
      "metadata": {
        "colab": {
          "base_uri": "https://localhost:8080/"
        },
        "id": "jsHXwYiNO6w6",
        "outputId": "65c65755-2037-4485-9121-c8ad95e1567e"
      },
      "execution_count": null,
      "outputs": [
        {
          "output_type": "stream",
          "name": "stdout",
          "text": [
            "Ранг матрицы системы уравнений: rankA=3,\n",
            "Ранг расширенной матрицы: rankA1=3\n"
          ]
        }
      ]
    },
    {
      "cell_type": "markdown",
      "source": [
        "    \n",
        "   б) $\\begin{cases}\n",
        "2x_{1}-4x_{2}+6x_{3}=1, \\\\\n",
        "x_{1}-2x_{2}+3x_{3}=-2, \\\\\n",
        "3x_{1}-6x_{2}+9x_{3}=5;\n",
        "\\end{cases}$"
      ],
      "metadata": {
        "id": "zR6aH3GOOCz_"
      }
    },
    {
      "cell_type": "code",
      "source": [
        "A=np.array([[2,-4,6],[1,-2,3],[3,-6,9]])\n",
        "A1=np.array([[2,-4,6,1],[1,-2,3,-2],[3,-6,9,5]])\n",
        "print(f'Ранг матрицы системы уравнений: rankA={np.linalg.matrix_rank(A)},\\n'\n",
        "      f'Ранг расширенной матрицы: rankA1={np.linalg.matrix_rank(A1)}')"
      ],
      "metadata": {
        "colab": {
          "base_uri": "https://localhost:8080/"
        },
        "id": "vom70ThZPLYI",
        "outputId": "56607c34-c89a-49f8-9901-4ea67a94f6ff"
      },
      "execution_count": null,
      "outputs": [
        {
          "output_type": "stream",
          "name": "stdout",
          "text": [
            "Ранг матрицы системы уравнений: rankA=1,\n",
            "Ранг расширенной матрицы: rankA1=2\n"
          ]
        }
      ]
    },
    {
      "cell_type": "markdown",
      "source": [
        "$rankA<rank \\tilde A\\Rightarrow$ система несовместна и не имеет решений."
      ],
      "metadata": {
        "id": "tKx91RU4PZiR"
      }
    },
    {
      "cell_type": "markdown",
      "source": [
        "   в) $\\begin{cases}\n",
        "x_{1}+2x_{2}+5x_{3}=4, \\\\\n",
        "3x_{1}+x_{2}-8x_{3}=-2. \n",
        "\\end{cases}$"
      ],
      "metadata": {
        "id": "clz0ea8fO5G5"
      }
    },
    {
      "cell_type": "code",
      "source": [
        "A=np.array([[1,2,5],[3,1,-8]])\n",
        "A1=np.array([[1,2,5,4],[3,1,-8,-2]])\n",
        "print(f'Ранг матрицы системы уравнений: rankA={np.linalg.matrix_rank(A)},\\n'\n",
        "      f'Ранг расширенной матрицы: rankA1={np.linalg.matrix_rank(A1)}')"
      ],
      "metadata": {
        "colab": {
          "base_uri": "https://localhost:8080/"
        },
        "id": "ySyG1VMWP83j",
        "outputId": "4d30d77e-dd46-4d74-ef15-815773b63713"
      },
      "execution_count": null,
      "outputs": [
        {
          "output_type": "stream",
          "name": "stdout",
          "text": [
            "Ранг матрицы системы уравнений: rankA=2,\n",
            "Ранг расширенной матрицы: rankA1=2\n"
          ]
        }
      ]
    },
    {
      "cell_type": "markdown",
      "source": [
        "Поскольку $rankA=rank \\tilde A<n$, где $n$ — число неизвестных, то система совместна, но неопределена, и имеет множество решений."
      ],
      "metadata": {
        "id": "Bh2RSTE2Qbb1"
      }
    },
    {
      "cell_type": "markdown",
      "source": [
        "__3.__ Проверить на совместность и выяснить, сколько решений будет иметь система линейных уравнений, заданная расширенной матрицей\n",
        "\n",
        "$$\\tilde{A}=\\begin{pmatrix}\n",
        "\\left.\\begin{matrix}\n",
        "1 & 3 & -2 & 4\\\\ \n",
        "0 & 5 & 0 & 1\\\\ \n",
        "0 & 0 & 3 & 0\\\\ \n",
        "0 & 0 & 0 & 2\n",
        "\\end{matrix}\\right|\n",
        "\\begin{matrix}\n",
        "3\\\\ \n",
        "2\\\\\n",
        "4\\\\\n",
        "1\n",
        "\\end{matrix}\n",
        "\\end{pmatrix}.$$"
      ],
      "metadata": {
        "id": "sDUKWqHdQq-_"
      }
    },
    {
      "cell_type": "code",
      "source": [
        "A=np.array([[1,3,-2,4],[0,5,0,1],[0,0,3,0],[0,0,0,2]])\n",
        "A1=np.array([[1,3,-2,4,3],[0,5,0,1,2],[0,0,3,0,4],[0,0,0,2,1]])\n",
        "print(f'Ранг матрицы системы уравнений: rankA={np.linalg.matrix_rank(A)},\\n'\n",
        "      f'Ранг расширенной матрицы: rankA1={np.linalg.matrix_rank(A1)}')"
      ],
      "metadata": {
        "colab": {
          "base_uri": "https://localhost:8080/"
        },
        "id": "e_u2orW5Qxuo",
        "outputId": "38e230ca-0744-436b-8ecd-74f3568cdf97"
      },
      "execution_count": null,
      "outputs": [
        {
          "output_type": "stream",
          "name": "stdout",
          "text": [
            "Ранг матрицы системы уравнений: rankA=4,\n",
            "Ранг расширенной матрицы: rankA1=4\n"
          ]
        }
      ]
    },
    {
      "cell_type": "markdown",
      "source": [
        "Поскольку $rankA=rank \\tilde A=n$, где $n$ — число неизвестных, $\\Rightarrow$ система совместна и определена и имеет единственное решение."
      ],
      "metadata": {
        "id": "gckYPNgcQ_DE"
      }
    },
    {
      "cell_type": "markdown",
      "source": [
        "__4.__ Дана система линейных уравнений, заданная расширенной матрицей\n",
        "\n",
        "$$\\tilde{A}=\\begin{pmatrix}\n",
        "\\left.\\begin{matrix}\n",
        "1 & 2 & 3\\\\ \n",
        "4 & 5 & 6\\\\ \n",
        "7 & 8 & 9\n",
        "\\end{matrix}\\right|\n",
        "\\begin{matrix}\n",
        "a\\\\ \n",
        "b\\\\\n",
        "c\n",
        "\\end{matrix}\n",
        "\\end{pmatrix}.$$\n",
        "\n",
        "Найти соотношение между параметрами $a$, $b$ и $c$, при которых система является несовместной."
      ],
      "metadata": {
        "id": "dQ8OBP3ZRPJO"
      }
    },
    {
      "cell_type": "markdown",
      "source": [
        "Система будет несовместной если $rankA<rank\\tilde A$"
      ],
      "metadata": {
        "id": "A8xUmm2rSbO4"
      }
    },
    {
      "cell_type": "markdown",
      "source": [
        "Преобразуем $\\tilde A$"
      ],
      "metadata": {
        "id": "TG7_2nlDSzz5"
      }
    },
    {
      "cell_type": "markdown",
      "source": [
        "$\\begin{pmatrix}\n",
        "\\left.\\begin{matrix}\n",
        "1 & 2 & 3\\\\ \n",
        "4 & 5 & 6\\\\ \n",
        "7 & 8 & 9\n",
        "\\end{matrix}\\right|\n",
        "\\begin{matrix}\n",
        "a\\\\ \n",
        "b\\\\\n",
        "c\n",
        "\\end{matrix}\n",
        "\\end{pmatrix}$"
      ],
      "metadata": {
        "id": "2YyUyyuHS7Nd"
      }
    },
    {
      "cell_type": "markdown",
      "source": [
        "Вычтем из второй строки удвоенную первую:"
      ],
      "metadata": {
        "id": "2oifmpdBTClp"
      }
    },
    {
      "cell_type": "markdown",
      "source": [
        "$\\begin{pmatrix}\n",
        "\\left.\\begin{matrix}\n",
        "1 & 2 & 3\\\\ \n",
        "2 & 1 & 0\\\\ \n",
        "7 & 8 & 9\n",
        "\\end{matrix}\\right|\n",
        "\\begin{matrix}\n",
        "a\\\\ \n",
        "b-2a\\\\\n",
        "c\n",
        "\\end{matrix}\n",
        "\\end{pmatrix}$"
      ],
      "metadata": {
        "id": "AOowdY4xTCV9"
      }
    },
    {
      "cell_type": "markdown",
      "source": [
        "Вычтем из третьей строки утроенную первую:"
      ],
      "metadata": {
        "id": "UtKMH1V5THO9"
      }
    },
    {
      "cell_type": "markdown",
      "source": [
        "$\\begin{pmatrix}\n",
        "\\left.\\begin{matrix}\n",
        "1 & 2 & 3\\\\ \n",
        "2 & 1 & 0\\\\ \n",
        "4 & 2 & 0\n",
        "\\end{matrix}\\right|\n",
        "\\begin{matrix}\n",
        "a\\\\ \n",
        "b-2a\\\\\n",
        "c-3a\n",
        "\\end{matrix}\n",
        "\\end{pmatrix}$"
      ],
      "metadata": {
        "id": "v_X658o5TJML"
      }
    },
    {
      "cell_type": "markdown",
      "source": [
        "Вычтем из третьей строки удвоенную вторую:"
      ],
      "metadata": {
        "id": "Y7p8rp4XTLey"
      }
    },
    {
      "cell_type": "markdown",
      "source": [
        "$\\begin{pmatrix}\n",
        "\\left.\\begin{matrix}\n",
        "1 & 2 & 3\\\\ \n",
        "2 & 1 & 0\\\\ \n",
        "0 & 0 & 0\n",
        "\\end{matrix}\\right|\n",
        "\\begin{matrix}\n",
        "a\\\\ \n",
        "b-2a\\\\\n",
        "c-3a-2(b-2a)\n",
        "\\end{matrix}\n",
        "\\end{pmatrix}=\\begin{pmatrix}\n",
        "\\left.\\begin{matrix}\n",
        "1 & 2 & 3\\\\ \n",
        "2 & 1 & 0\\\\ \n",
        "0 & 0 & 0\n",
        "\\end{matrix}\\right|\n",
        "\\begin{matrix}\n",
        "a\\\\ \n",
        "b-2a\\\\\n",
        "c+a-2b\n",
        "\\end{matrix}\n",
        "\\end{pmatrix}$"
      ],
      "metadata": {
        "id": "DhQosyf0TQjK"
      }
    },
    {
      "cell_type": "markdown",
      "source": [
        "Поскольку $rankA=2$, то для выполнения условия несовместности необходимоб чтобы $rank \\tilde A>2$, а это возможно при условии что $c+a-2b\\neq0$"
      ],
      "metadata": {
        "id": "PD-Xa5B0TS3f"
      }
    },
    {
      "cell_type": "markdown",
      "source": [
        "# Системы линейных уравнений. Часть 2"
      ],
      "metadata": {
        "id": "3v_nwiFtTik-"
      }
    },
    {
      "cell_type": "markdown",
      "source": [
        "__1.__ Решить систему уравнений методом Крамера:\n",
        "\n",
        "   а) $\\begin{cases}\n",
        "x_{1}-2x_{2}=1 \\\\\n",
        "3x_{1}-4x_{2}=7\n",
        "\\end{cases}$"
      ],
      "metadata": {
        "id": "cY-g4PCmbrzq"
      }
    },
    {
      "cell_type": "markdown",
      "source": [
        "Найдем определитель матрицы коэффициентов:"
      ],
      "metadata": {
        "id": "sDm3bIAsbxqR"
      }
    },
    {
      "cell_type": "markdown",
      "source": [
        "$$A=\\begin{pmatrix}1 & -2\\\\\n",
        "3 & -4\\end{pmatrix}\n",
        "detA=\\begin{vmatrix}1 & -2\\\\\n",
        "3 & -4\\end{vmatrix}=1\\cdot -4-(-2)\\cdot 3=2\\neq 0\n",
        "\\Rightarrow\\text{ Система определена}\\\n",
        "detA_1=\\begin{vmatrix}1 & -2\\\\\n",
        "7 & -4\\end{vmatrix}=-4+14=10\n",
        "detA_2=\\begin{vmatrix}1 & 1\\\\\n",
        "3 & 7\\end{vmatrix}=7-3=4\n",
        "x_1=\\frac{detA_1}{detA}=\\frac{10}{2}=5\n",
        "x_2=\\frac{detA_2}{detA}=\\frac{4}{2}=2$$"
      ],
      "metadata": {
        "id": "6q9BeW8PckWa"
      }
    },
    {
      "cell_type": "markdown",
      "source": [
        "   б) $\\begin{cases}\n",
        "2x_{1}-x_{2}+5x_{3}=10 \\\\\n",
        "x_{1}+x_{2}-3x_{3}=-2 \\\\\n",
        "2x_{1}+4x_{2}+x_{3}=1\n",
        "\\end{cases}$"
      ],
      "metadata": {
        "id": "be916WOKcpBo"
      }
    },
    {
      "cell_type": "markdown",
      "source": [
        "Решим с помошью методов numpy:"
      ],
      "metadata": {
        "id": "253PfIsNdv4C"
      }
    },
    {
      "cell_type": "code",
      "source": [
        "A=np.array([[2,-1,5],[1,1,-3],[2,4,1]])\n",
        "detA=round(np.linalg.det(A))\n",
        "print(f'Определитель матрицы коэффициентов detA = {detA}')"
      ],
      "metadata": {
        "colab": {
          "base_uri": "https://localhost:8080/"
        },
        "id": "4jrR7qZLdvbE",
        "outputId": "99549a8e-07d1-439d-eafd-263691cd2fd9"
      },
      "execution_count": 3,
      "outputs": [
        {
          "output_type": "stream",
          "name": "stdout",
          "text": [
            "Определитель матрицы коэффициентов detA = 43\n"
          ]
        }
      ]
    },
    {
      "cell_type": "markdown",
      "source": [
        "$detA\\neq 0\\Rightarrow\\text{ Система определена.}$"
      ],
      "metadata": {
        "id": "HLk5q65qeAHw"
      }
    },
    {
      "cell_type": "code",
      "source": [
        "A=np.array([[2,-1,5],[1,1,-3],[2,4,1]])\n",
        "B=np.array([[10],[-2],[1]])\n",
        "dets=[]\n",
        "for j in range(len(A[1])):\n",
        "    A_copy=A.copy()\n",
        "    for i in range(len(A)):\n",
        "        A_copy[i][j]=B[i]\n",
        "    dets.append(round(np.linalg.det(A_copy)))\n",
        "detA=round(np.linalg.det(A))\n",
        "print(f'Определитель матрицы коэффициентов detA = {detA}')\n",
        "for i,det in enumerate(dets):\n",
        "    print(f'detA{i+1} = {det}, x{i+1} = {det/detA}')"
      ],
      "metadata": {
        "colab": {
          "base_uri": "https://localhost:8080/"
        },
        "id": "LhzspJgoeGb_",
        "outputId": "9358fd3a-f661-451e-b3b9-b6f755af8d8e"
      },
      "execution_count": 4,
      "outputs": [
        {
          "output_type": "stream",
          "name": "stdout",
          "text": [
            "Определитель матрицы коэффициентов detA = 43\n",
            "detA1 = 86, x1 = 2.0\n",
            "detA2 = -43, x2 = -1.0\n",
            "detA3 = 43, x3 = 1.0\n"
          ]
        }
      ]
    },
    {
      "cell_type": "markdown",
      "source": [
        "$x_1=2 x_2=-1 x_3=1$"
      ],
      "metadata": {
        "id": "o_YksAyVeLbk"
      }
    },
    {
      "cell_type": "markdown",
      "source": [
        "__2.__ Найти $L$-матрицу $LU$-разложения для матрицы коэффициентов:\n",
        "\n",
        "   а)$$\\begin{pmatrix}\n",
        "1 & 2 & 4 \\\\ \n",
        "2 & 9 & 12 \\\\ \n",
        "3 & 26 & 30\n",
        "\\end{pmatrix}$$"
      ],
      "metadata": {
        "id": "sLlaXaq7eNBG"
      }
    },
    {
      "cell_type": "markdown",
      "source": [
        "$U=\\begin{pmatrix}\n",
        "1 & 2 & 4 \\\\ \n",
        "2 & 9 & 12 \\\\ \n",
        "3 & 26 & 30\n",
        "\\end{pmatrix}$\n",
        "\n",
        "$L=\\begin{pmatrix}\n",
        "1 & 0 & 0 \\\\ \n",
        "0 & 1 & 0 \\\\ \n",
        "0 & 0 & 1\n",
        "\\end{pmatrix}$"
      ],
      "metadata": {
        "id": "QFEREZWheY0M"
      }
    },
    {
      "cell_type": "markdown",
      "source": [
        "Вычтем из второй и третьей строк матрицы $U$ первую строку, умноженную на 2 и 3 соответственно.\n",
        "В матрицу $L$ добавим эти множители в первый столбец на 2-ю и третью позиции."
      ],
      "metadata": {
        "id": "8DNcV2ckemWV"
      }
    },
    {
      "cell_type": "markdown",
      "source": [
        "$U=\\begin{pmatrix}\n",
        "1 & 2 & 4 \\\\ \n",
        "0 & 5 & 4 \\\\ \n",
        "0 & 20 & 18\n",
        "\\end{pmatrix}$\n",
        "\n",
        "$L=\\begin{pmatrix}\n",
        "1 & 0 & 0 \\\\ \n",
        "2 & 1 & 0 \\\\ \n",
        "3 & 0 & 1\n",
        "\\end{pmatrix}$"
      ],
      "metadata": {
        "id": "YdP104u2e3sT"
      }
    },
    {
      "cell_type": "markdown",
      "source": [
        "Вычтем из третьей строки матрицы $U$ вторую строку, умноженную 4.\n",
        "В матрицу $L$ добавим этот множитель во второй столбец на третью позицию."
      ],
      "metadata": {
        "id": "mSrztuoIe9NO"
      }
    },
    {
      "cell_type": "markdown",
      "source": [
        "$U=\\begin{pmatrix}\n",
        "1 & 2 & 4 \\\\ \n",
        "0 & 5 & 4 \\\\ \n",
        "0 & 0 & 2\n",
        "\\end{pmatrix}$\n",
        "\n",
        "$L=\\begin{pmatrix}\n",
        "1 & 0 & 0 \\\\ \n",
        "2 & 1 & 0 \\\\ \n",
        "3 & 4 & 1\n",
        "\\end{pmatrix}$"
      ],
      "metadata": {
        "id": "BI-o5UlFfe8T"
      }
    },
    {
      "cell_type": "markdown",
      "source": [
        "   б)$$\\begin{pmatrix}\n",
        "1 & 1 & 2 & 4\\\\ \n",
        "2 & 5 & 8 & 9\\\\ \n",
        "3 & 18 & 29 & 18\\\\\n",
        "4 & 22 & 53 & 33\n",
        "\\end{pmatrix}$$"
      ],
      "metadata": {
        "id": "byuoWwJ2fjlB"
      }
    },
    {
      "cell_type": "markdown",
      "source": [
        "$L=\\begin{pmatrix}\n",
        "1 & 0 & 0 & 0\\\\ \n",
        "0 & 1 & 0 & 0\\\\ \n",
        "0 & 0 & 1 & 0\\\\\n",
        "0 & 0 & 0 & 1\n",
        "\\end{pmatrix}$"
      ],
      "metadata": {
        "id": "hoY0HiZdfpfw"
      }
    },
    {
      "cell_type": "markdown",
      "source": [
        "Из второй, третьей и четвёртой строк вычитаем первую, умноженную на 2, 3 и 4, соответственно"
      ],
      "metadata": {
        "id": "BsgI1GxcfzJG"
      }
    },
    {
      "cell_type": "markdown",
      "source": [
        "$U=\\begin{pmatrix}\n",
        "1 & 1 & 2 & 4\\\\ \n",
        "0 & 3 & 4 & 1\\\\ \n",
        "0 & 15 & 23 & 6\\\\\n",
        "0 & 18 & 45 & 17\n",
        "\\end{pmatrix}$\n",
        "\n",
        "$L=\\begin{pmatrix}\n",
        "1 & 0 & 0 & 0\\\\ \n",
        "2 & 1 & 0 & 0\\\\ \n",
        "3 & 0 & 1 & 0\\\\\n",
        "4 & 0 & 0 & 1\n",
        "\\end{pmatrix}$"
      ],
      "metadata": {
        "id": "klXNsXbOf1ep"
      }
    },
    {
      "cell_type": "markdown",
      "source": [
        "Из третьей и четвёртой строк вычитаем вторую, умноженную на 5 и 6, соответственно"
      ],
      "metadata": {
        "id": "XY570gr1f7oy"
      }
    },
    {
      "cell_type": "markdown",
      "source": [
        "$U=\\begin{pmatrix}\n",
        "1 & 1 & 2 & 4\\\\ \n",
        "0 & 3 & 4 & 1\\\\ \n",
        "0 & 0 & 3 & 1\\\\\n",
        "0 & 0 & 21 & 11\n",
        "\\end{pmatrix}$\n",
        "\n",
        "$L=\\begin{pmatrix}\n",
        "1 & 0 & 0 & 0\\\\ \n",
        "2 & 1 & 0 & 0\\\\ \n",
        "3 & 5 & 1 & 0\\\\\n",
        "4 & 6 & 0 & 1\n",
        "\\end{pmatrix}$"
      ],
      "metadata": {
        "id": "-6SEXOoSf8UD"
      }
    },
    {
      "cell_type": "markdown",
      "source": [
        "Из четвёртой строки вычтем третью, умноженную на 7"
      ],
      "metadata": {
        "id": "MwesAwlih2uM"
      }
    },
    {
      "cell_type": "markdown",
      "source": [
        "$U=\\begin{pmatrix}\n",
        "1 & 1 & 2 & 4\\\\ \n",
        "0 & 3 & 4 & 1\\\\ \n",
        "0 & 0 & 3 & 1\\\\\n",
        "0 & 0 & 0 & 4\n",
        "\\end{pmatrix}$\n",
        "\n",
        "$L=\\begin{pmatrix}\n",
        "1 & 0 & 0 & 0\\\\ \n",
        "2 & 1 & 0 & 0\\\\ \n",
        "3 & 5 & 1 & 0\\\\\n",
        "4 & 6 & 7 & 1\n",
        "\\end{pmatrix}$"
      ],
      "metadata": {
        "id": "Famd4-x9h6Yw"
      }
    },
    {
      "cell_type": "markdown",
      "source": [
        "__3.__ Решить систему линейных уравнений методом $LU$-разложения\n",
        "\n",
        "$$\\begin{cases}\n",
        "2x_{1}+x_{2}+3x_{3}=1 \\\\\n",
        "11x_{1}+7x_{2}+5x_{3}=-6 \\\\\n",
        "9x_{1}+8x_{2}+4x_{3}=-5\n",
        "\\end{cases}$$"
      ],
      "metadata": {
        "id": "0Nl-P-VXiA-m"
      }
    },
    {
      "cell_type": "code",
      "source": [
        "A=np.array([[2,1,3],[11,7,5],[9,8,4]])\n",
        "b=np.array([1,-6,-5])\n",
        "A"
      ],
      "metadata": {
        "colab": {
          "base_uri": "https://localhost:8080/"
        },
        "id": "FcAF6K43iI0H",
        "outputId": "af89da36-4b92-470f-ab54-03b796a7e0b9"
      },
      "execution_count": 5,
      "outputs": [
        {
          "output_type": "execute_result",
          "data": {
            "text/plain": [
              "array([[ 2,  1,  3],\n",
              "       [11,  7,  5],\n",
              "       [ 9,  8,  4]])"
            ]
          },
          "metadata": {},
          "execution_count": 5
        }
      ]
    },
    {
      "cell_type": "code",
      "source": [
        "b"
      ],
      "metadata": {
        "colab": {
          "base_uri": "https://localhost:8080/"
        },
        "id": "yoGCInHqiMXg",
        "outputId": "2399c9ba-f6e5-4273-ba80-625c1b075ae9"
      },
      "execution_count": 6,
      "outputs": [
        {
          "output_type": "execute_result",
          "data": {
            "text/plain": [
              "array([ 1, -6, -5])"
            ]
          },
          "metadata": {},
          "execution_count": 6
        }
      ]
    },
    {
      "cell_type": "markdown",
      "source": [
        "Найдем матрицы $L$ и $U$"
      ],
      "metadata": {
        "id": "9A2LpOEJiGNd"
      }
    },
    {
      "cell_type": "code",
      "source": [
        "p,L,U=scipy.linalg.lu(A)\n",
        "print(f'Матрица p: \\n{p}\\nМатрица L:\\n{L}\\nМатрица U:\\n{U}')"
      ],
      "metadata": {
        "colab": {
          "base_uri": "https://localhost:8080/"
        },
        "id": "lWZ1ZjeMiU9b",
        "outputId": "d0ab2a64-a616-4028-e2c7-a1df75f4b149"
      },
      "execution_count": 9,
      "outputs": [
        {
          "output_type": "stream",
          "name": "stdout",
          "text": [
            "Матрица p: \n",
            "[[0. 0. 1.]\n",
            " [1. 0. 0.]\n",
            " [0. 1. 0.]]\n",
            "Матрица L:\n",
            "[[ 1.          0.          0.        ]\n",
            " [ 0.81818182  1.          0.        ]\n",
            " [ 0.18181818 -0.12        1.        ]]\n",
            "Матрица U:\n",
            "[[11.          7.          5.        ]\n",
            " [ 0.          2.27272727 -0.09090909]\n",
            " [ 0.          0.          2.08      ]]\n"
          ]
        }
      ]
    },
    {
      "cell_type": "markdown",
      "source": [
        "Решим систему $Ly=b$"
      ],
      "metadata": {
        "id": "h3Et51kfiipi"
      }
    },
    {
      "cell_type": "code",
      "source": [
        "def y_search(L,b,p):\n",
        "    y_arr=np.array([0 for i in range(len(b))],dtype=float)\n",
        "    b_copy=(p.T@b).astype(np.float)\n",
        "    for i in range(len(b)):\n",
        "        for j in range(len(b)):\n",
        "            tot=(L[i][j]*y_arr[j])\n",
        "            b_copy[i]-=tot\n",
        "        y_arr[i]=b_copy[i]/L[i][i]\n",
        "    return y_arr.reshape(len(b),-1)\n",
        "\n",
        "y_arr=y_search(L,b,p)\n",
        "y_arr"
      ],
      "metadata": {
        "colab": {
          "base_uri": "https://localhost:8080/"
        },
        "id": "dOoPs4iUioSo",
        "outputId": "50772695-8dd8-4327-b779-689eafb8e965"
      },
      "execution_count": 10,
      "outputs": [
        {
          "output_type": "stream",
          "name": "stderr",
          "text": [
            "/usr/local/lib/python3.7/dist-packages/ipykernel_launcher.py:3: DeprecationWarning: `np.float` is a deprecated alias for the builtin `float`. To silence this warning, use `float` by itself. Doing this will not modify any behavior and is safe. If you specifically wanted the numpy scalar type, use `np.float64` here.\n",
            "Deprecated in NumPy 1.20; for more details and guidance: https://numpy.org/devdocs/release/1.20.0-notes.html#deprecations\n",
            "  This is separate from the ipykernel package so we can avoid doing imports until\n"
          ]
        },
        {
          "output_type": "execute_result",
          "data": {
            "text/plain": [
              "array([[-6.        ],\n",
              "       [-0.09090909],\n",
              "       [ 2.08      ]])"
            ]
          },
          "metadata": {},
          "execution_count": 10
        }
      ]
    },
    {
      "cell_type": "markdown",
      "source": [
        "Решим систему $Ux=b$:"
      ],
      "metadata": {
        "id": "vMZk0O0QjDZ0"
      }
    },
    {
      "cell_type": "code",
      "source": [
        "def x_search(U,y_arr):\n",
        "    x_arr=np.array([0 for i in range(len(y_arr))],dtype=float)\n",
        "    b_copy=y_arr.copy()\n",
        "    for i in range(len(y_arr)-1,-1,-1):\n",
        "        for j in range(len(y_arr)-1,-1,-1):\n",
        "            tot=(U[i][j]*x_arr[j])\n",
        "            b_copy[i]-=tot\n",
        "        x_arr[i]=b_copy[i]/U[i][i]\n",
        "    return x_arr.reshape(len(x_arr),-1)"
      ],
      "metadata": {
        "id": "V8qgqp4ljIx4"
      },
      "execution_count": 12,
      "outputs": []
    },
    {
      "cell_type": "code",
      "source": [
        "x_arr=x_search(U,y_arr)\n",
        "x_arr"
      ],
      "metadata": {
        "colab": {
          "base_uri": "https://localhost:8080/"
        },
        "id": "oP_urPctjMlH",
        "outputId": "388e404e-cbf1-4d1d-ead3-78be8659539a"
      },
      "execution_count": 13,
      "outputs": [
        {
          "output_type": "execute_result",
          "data": {
            "text/plain": [
              "array([[-1.],\n",
              "       [ 0.],\n",
              "       [ 1.]])"
            ]
          },
          "metadata": {},
          "execution_count": 13
        }
      ]
    },
    {
      "cell_type": "markdown",
      "source": [
        "$x_1=-1,\\\n",
        "x_2=0,\\\n",
        "x_3=1.$"
      ],
      "metadata": {
        "id": "oY2Dd0dPjQGY"
      }
    },
    {
      "cell_type": "markdown",
      "source": [
        "__4.__ Решить систему линейных уравнений методом Холецкого\n",
        "\n",
        "$$\\begin{cases}\n",
        "81x_{1}-45x_{2}+45x_{3}=531 \\\\\n",
        "-45x_{1}+50x_{2}-15x_{3}=-460 \\\\\n",
        "45x_{1}-15x_{2}+38x_{3}=193\n",
        "\\end{cases}$$"
      ],
      "metadata": {
        "id": "4CUNJLSzjb_4"
      }
    },
    {
      "cell_type": "code",
      "source": [
        "A=np.array([[81,-45,45],[-45,50,-15], [45,-15,38]])\n",
        "b=np.array([531,-460,193])"
      ],
      "metadata": {
        "id": "ulPiE2Cyjh_H"
      },
      "execution_count": 14,
      "outputs": []
    },
    {
      "cell_type": "markdown",
      "source": [
        "Напишем функцию, для получения нижней треугольной матрицы $L$ по методу Холецкого:"
      ],
      "metadata": {
        "id": "YEakMkRLjc85"
      }
    },
    {
      "cell_type": "code",
      "source": [
        "def my_choletsky(matrix):\n",
        "    l=np.zeros_like(matrix,dtype=float)\n",
        "    for i in range(len(matrix)):\n",
        "        for j in range(len(matrix)):\n",
        "            if j==i:\n",
        "                sum_sq=0\n",
        "                for k in range(i):\n",
        "                    sum_sq+=l[i][k]**2\n",
        "                l[i][i]=np.sqrt(matrix[i][i]-sum_sq)\n",
        "            elif j<i:\n",
        "                sum_mult=0\n",
        "                for k in range(j):\n",
        "                    sum_mult+=l[i][k]*l[j][k]\n",
        "                l[i][j]=(1/l[j][j])*(matrix[i][j]-sum_mult)\n",
        "            else:\n",
        "                l[i][j]=0\n",
        "                \n",
        "    return l"
      ],
      "metadata": {
        "id": "dfyfyS9kjpEY"
      },
      "execution_count": 15,
      "outputs": []
    },
    {
      "cell_type": "markdown",
      "source": [
        "Найдем матрицу $L$:"
      ],
      "metadata": {
        "id": "TD5Jj7W2jsFk"
      }
    },
    {
      "cell_type": "code",
      "source": [
        "\n",
        "L=my_choletsky(A)\n",
        "L"
      ],
      "metadata": {
        "colab": {
          "base_uri": "https://localhost:8080/"
        },
        "id": "PSV0LdlSjvNP",
        "outputId": "eda3cd35-3b79-44c9-fc4b-4fb72191c394"
      },
      "execution_count": 16,
      "outputs": [
        {
          "output_type": "execute_result",
          "data": {
            "text/plain": [
              "array([[ 9.,  0.,  0.],\n",
              "       [-5.,  5.,  0.],\n",
              "       [ 5.,  2.,  3.]])"
            ]
          },
          "metadata": {},
          "execution_count": 16
        }
      ]
    },
    {
      "cell_type": "markdown",
      "source": [
        "Проверим что $LL^T=A$:"
      ],
      "metadata": {
        "id": "S0qGKYbrjxHj"
      }
    },
    {
      "cell_type": "code",
      "source": [
        "print(L@L.T)\n",
        "np.all(L@L.T==A)"
      ],
      "metadata": {
        "colab": {
          "base_uri": "https://localhost:8080/"
        },
        "id": "1d6rkee9j2t3",
        "outputId": "20d06d60-ccf3-4e70-ffa8-c67134e1a535"
      },
      "execution_count": 17,
      "outputs": [
        {
          "output_type": "stream",
          "name": "stdout",
          "text": [
            "[[ 81. -45.  45.]\n",
            " [-45.  50. -15.]\n",
            " [ 45. -15.  38.]]\n"
          ]
        },
        {
          "output_type": "execute_result",
          "data": {
            "text/plain": [
              "True"
            ]
          },
          "metadata": {},
          "execution_count": 17
        }
      ]
    },
    {
      "cell_type": "markdown",
      "source": [
        "Найдем матрицу $L$ с помощью numpy:"
      ],
      "metadata": {
        "id": "4NgmIrDij8Ig"
      }
    },
    {
      "cell_type": "code",
      "source": [
        "L_numpy=np.linalg.cholesky(A)\n",
        "print(L_numpy)\n",
        "np.all(L_numpy==L)"
      ],
      "metadata": {
        "colab": {
          "base_uri": "https://localhost:8080/"
        },
        "id": "sPI0Qb2sj9xU",
        "outputId": "2f40e977-bbd3-4153-9b18-a8d00f066085"
      },
      "execution_count": 18,
      "outputs": [
        {
          "output_type": "stream",
          "name": "stdout",
          "text": [
            "[[ 9.  0.  0.]\n",
            " [-5.  5.  0.]\n",
            " [ 5.  2.  3.]]\n"
          ]
        },
        {
          "output_type": "execute_result",
          "data": {
            "text/plain": [
              "True"
            ]
          },
          "metadata": {},
          "execution_count": 18
        }
      ]
    },
    {
      "cell_type": "markdown",
      "source": [
        "Решим систему $Ly=b$, для этого чуть модифицируем функцию $\\text{y_search}$ из предыдущей задачи:"
      ],
      "metadata": {
        "id": "4gIn_t7lkB8H"
      }
    },
    {
      "cell_type": "code",
      "source": [
        "def choletsky_y_search(L,b):\n",
        "    y_arr=np.array([0 for i in range(len(b))],dtype=float)\n",
        "    b_copy=b.astype(np.float).copy()\n",
        "    for i in range(len(b)):\n",
        "        for j in range(len(b)):\n",
        "            total=(L[i][j]*y_arr[j])\n",
        "            b_copy[i]-=total\n",
        "        y_arr[i]=b_copy[i]/L[i][i]\n",
        "    return y_arr.reshape(len(b),-1)\n",
        "\n",
        "y_arr=choletsky_y_search(L,b)\n",
        "y_arr"
      ],
      "metadata": {
        "colab": {
          "base_uri": "https://localhost:8080/"
        },
        "id": "3tvukPFNkKt6",
        "outputId": "7edee6c2-6c00-47c6-d84f-cc50f04325da"
      },
      "execution_count": 20,
      "outputs": [
        {
          "output_type": "stream",
          "name": "stderr",
          "text": [
            "/usr/local/lib/python3.7/dist-packages/ipykernel_launcher.py:3: DeprecationWarning: `np.float` is a deprecated alias for the builtin `float`. To silence this warning, use `float` by itself. Doing this will not modify any behavior and is safe. If you specifically wanted the numpy scalar type, use `np.float64` here.\n",
            "Deprecated in NumPy 1.20; for more details and guidance: https://numpy.org/devdocs/release/1.20.0-notes.html#deprecations\n",
            "  This is separate from the ipykernel package so we can avoid doing imports until\n"
          ]
        },
        {
          "output_type": "execute_result",
          "data": {
            "text/plain": [
              "array([[ 59.],\n",
              "       [-33.],\n",
              "       [-12.]])"
            ]
          },
          "metadata": {},
          "execution_count": 20
        }
      ]
    },
    {
      "cell_type": "markdown",
      "source": [
        "Решим систему $L^{T}x=y$, с помощью ранее написаной функции $\\text{x_search}$:"
      ],
      "metadata": {
        "id": "DKNhrkwekVdg"
      }
    },
    {
      "cell_type": "code",
      "source": [
        "x_arr=x_search(L.T,y_arr)\n",
        "x_arr"
      ],
      "metadata": {
        "colab": {
          "base_uri": "https://localhost:8080/"
        },
        "id": "KtTgg75KkbuM",
        "outputId": "fe69abff-8d22-4c86-c571-e4e142577f06"
      },
      "execution_count": 21,
      "outputs": [
        {
          "output_type": "execute_result",
          "data": {
            "text/plain": [
              "array([[ 6.],\n",
              "       [-5.],\n",
              "       [-4.]])"
            ]
          },
          "metadata": {},
          "execution_count": 21
        }
      ]
    },
    {
      "cell_type": "markdown",
      "source": [
        "$x_1=6,\\\n",
        "x_2=-5,\\\n",
        "x_3=-4.$"
      ],
      "metadata": {
        "id": "Puy-3t2BkfjY"
      }
    }
  ]
}