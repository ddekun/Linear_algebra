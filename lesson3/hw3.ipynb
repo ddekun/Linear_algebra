{
  "nbformat": 4,
  "nbformat_minor": 0,
  "metadata": {
    "colab": {
      "name": "hw3.ipynb",
      "provenance": [],
      "collapsed_sections": [],
      "authorship_tag": "ABX9TyPdjnqMs6n4W4qoz60uvEwR",
      "include_colab_link": true
    },
    "kernelspec": {
      "name": "python3",
      "display_name": "Python 3"
    },
    "language_info": {
      "name": "python"
    }
  },
  "cells": [
    {
      "cell_type": "markdown",
      "metadata": {
        "id": "view-in-github",
        "colab_type": "text"
      },
      "source": [
        "<a href=\"https://colab.research.google.com/github/ddekun/Linear_algebra/blob/lesson3/lesson3/hw3.ipynb\" target=\"_parent\"><img src=\"https://colab.research.google.com/assets/colab-badge.svg\" alt=\"Open In Colab\"/></a>"
      ]
    },
    {
      "cell_type": "markdown",
      "source": [
        "# Линейные преобразования"
      ],
      "metadata": {
        "id": "29qfgBdBD6wb"
      }
    },
    {
      "cell_type": "code",
      "source": [
        "import numpy as np"
      ],
      "metadata": {
        "id": "i-ZkWcusEpCK"
      },
      "execution_count": null,
      "outputs": []
    },
    {
      "cell_type": "markdown",
      "source": [
        "### __1.__ Найти собственные векторы и собственные значения для линейного оператора, заданного матрицей\n",
        "\n",
        "$$A=\\begin{pmatrix}\n",
        "-1 & -6\\\\ \n",
        "2 & 6\n",
        "\\end{pmatrix}.$$"
      ],
      "metadata": {
        "id": "L0GZohCYERRf"
      }
    },
    {
      "cell_type": "code",
      "execution_count": null,
      "metadata": {
        "colab": {
          "base_uri": "https://localhost:8080/"
        },
        "id": "7KdA2mRfD4F_",
        "outputId": "2377bca8-1693-487a-be2a-4e4699ac0643"
      },
      "outputs": [
        {
          "output_type": "stream",
          "name": "stdout",
          "text": [
            "Матрица A:\n",
            "[[-1 -6]\n",
            " [ 2  6]]\n",
            "Собственные значения:\n",
            "[2. 3.]\n",
            "Собственные векторы:\n",
            "[[-0.89442719  0.83205029]\n",
            " [ 0.4472136  -0.5547002 ]]\n"
          ]
        }
      ],
      "source": [
        "a = np.array([[-1, -6], [2, 6]])\n",
        "w, v = np.linalg.eig(a)\n",
        "\n",
        "print(f'Матрица A:\\n{a}')\n",
        "print(f'Собственные значения:\\n{w}')\n",
        "print(f'Собственные векторы:\\n{v}')"
      ]
    },
    {
      "cell_type": "markdown",
      "source": [
        "__2.__ Дан оператор поворота на 180 градусов, задаваемый матрицей \n",
        "\n",
        "$$A=\\begin{pmatrix}\n",
        "-1 & 0\\\\ \n",
        "0 & -1\n",
        "\\end{pmatrix}.$$\n",
        "\n",
        "Показать, что __любой__ вектор является для него собственным."
      ],
      "metadata": {
        "id": "EWxApgC6H1YV"
      }
    },
    {
      "cell_type": "markdown",
      "source": [
        "$$\\begin{pmatrix}\n",
        "-1 & 0\\\\ \n",
        "0 & -1\n",
        "\\end{pmatrix}\\cdot \\begin{pmatrix}x\\\\ y\\end{pmatrix}=\\lambda\\cdot \\begin{pmatrix}x\\\\ y\\end{pmatrix}\n",
        "\\begin{pmatrix}\n",
        "-x\\\\ \n",
        "-y\n",
        "\\end{pmatrix}=\\begin{pmatrix}\\lambda x\\\\ \\lambda y\\end{pmatrix}\n",
        "\\begin{cases}-x=\\lambda x\\\\-y=\\lambda y\\end{cases}\n",
        "\\lambda=-1$$\n",
        "\n",
        "Решение не зависит от значений $x$ и $y$, следовательно для оператора поворота любой вектор является собственным."
      ],
      "metadata": {
        "id": "WdA8k9rzH3CC"
      }
    },
    {
      "cell_type": "code",
      "source": [
        "a = np.array([[-1, 0], [0, -1]])\n",
        "w, v = np.linalg.eig(a)\n",
        "\n",
        "print(f'Матрица A:\\n{a}')\n",
        "print(f'Собственные значения:\\n{w}')\n",
        "print(f'Собственные векторы:\\n{v}')"
      ],
      "metadata": {
        "colab": {
          "base_uri": "https://localhost:8080/"
        },
        "id": "ZH5A8DdMH2ZP",
        "outputId": "7e3f4924-23b8-4906-c33a-a7ce561c3663"
      },
      "execution_count": null,
      "outputs": [
        {
          "output_type": "stream",
          "name": "stdout",
          "text": [
            "Матрица A:\n",
            "[[-1  0]\n",
            " [ 0 -1]]\n",
            "Собственные значения:\n",
            "[-1. -1.]\n",
            "Собственные векторы:\n",
            "[[1. 0.]\n",
            " [0. 1.]]\n"
          ]
        }
      ]
    },
    {
      "cell_type": "markdown",
      "source": [
        "### __3.__ Пусть линейный оператор задан матрицей\n",
        "\n",
        "$$A=\\begin{pmatrix}\n",
        "1 & 1\\\\ \n",
        "-1 & 3\n",
        "\\end{pmatrix}.$$\n",
        "\n",
        "Установить, является ли вектор $x=(1,1)$ собственным вектором этого линейного оператора."
      ],
      "metadata": {
        "id": "DPAITwkDJhSL"
      }
    },
    {
      "cell_type": "markdown",
      "source": [
        "$$\\begin{pmatrix}\n",
        "1 & 1\\\\ \n",
        "-1 & 3\n",
        "\\end{pmatrix}\\cdot\\begin{pmatrix}1\\\\1\\end{pmatrix}=\\lambda\\cdot\\begin{pmatrix}1\\\\1\\end{pmatrix} \\Rightarrow\\begin{cases}1+1=\\lambda \\\\\n",
        "-1+3=\\lambda \\end{cases}\\Rightarrow \\lambda=2$$"
      ],
      "metadata": {
        "id": "EYpgbsKGKcqy"
      }
    },
    {
      "cell_type": "markdown",
      "source": [
        "Вектор $x=(1,1)$ является собственным вектором оператора $A=\\begin{pmatrix}\n",
        "1 & 1\\\\ \n",
        "-1 & 3\n",
        "\\end{pmatrix}$\n",
        " , с собственным значением $\\lambda=2$."
      ],
      "metadata": {
        "id": "H5HwGatvK5kv"
      }
    },
    {
      "cell_type": "markdown",
      "source": [
        "__4.__ Пусть линейный оператор задан матрицей\n",
        "\n",
        "$$A=\\begin{pmatrix}\n",
        "0 & 3 & 0\\\\ \n",
        "3 & 0 & 0\\\\\n",
        "0 & 0 & 3\n",
        "\\end{pmatrix}.$$\n",
        "\n",
        "Установить, является ли вектор $x=(3, -3, -4)$ собственным вектором этого линейного оператора."
      ],
      "metadata": {
        "id": "F-ky6ug_MYu4"
      }
    },
    {
      "cell_type": "markdown",
      "source": [
        "$\\begin{pmatrix}\n",
        "0 & 3 & 0\\\\ \n",
        "3 & 0 & 0\\\\\n",
        "0 & 0 & 3\n",
        "\\end{pmatrix}\\cdot \\begin{pmatrix}3\\\\-3\\\\-4\\end{pmatrix}=\\lambda \\cdot\\begin{pmatrix}3\\\\-3\\\\-4\\end{pmatrix}\\Rightarrow\n",
        "\\begin{cases}-9=3\\lambda\\\\9=-3\\lambda\\\\-12=-4\\lambda\\end{cases}\\Rightarrow\n",
        "\\begin{cases}\\lambda=-3\\\\\\lambda=-3\\\\\\lambda=3\\end{cases}$"
      ],
      "metadata": {
        "id": "wTbqcz8tNX6Z"
      }
    },
    {
      "cell_type": "markdown",
      "source": [
        "Такая система не имеет смысла, следовательно, вектор $x=(3, -3, -4)$ не является собственным вектором линейного оператора, заданного матрицей $A$."
      ],
      "metadata": {
        "id": "esMvUuK_NmKr"
      }
    }
  ]
}