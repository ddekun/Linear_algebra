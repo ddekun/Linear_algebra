{
  "nbformat": 4,
  "nbformat_minor": 0,
  "metadata": {
    "colab": {
      "provenance": [],
      "collapsed_sections": [],
      "authorship_tag": "ABX9TyNb5kaeXyysYECua6n8CFRc",
      "include_colab_link": true
    },
    "kernelspec": {
      "name": "python3",
      "display_name": "Python 3"
    },
    "language_info": {
      "name": "python"
    }
  },
  "cells": [
    {
      "cell_type": "markdown",
      "metadata": {
        "id": "view-in-github",
        "colab_type": "text"
      },
      "source": [
        "<a href=\"https://colab.research.google.com/github/ddekun/Linear_algebra/blob/lesson5/lesson5/hw5.ipynb\" target=\"_parent\"><img src=\"https://colab.research.google.com/assets/colab-badge.svg\" alt=\"Open In Colab\"/></a>"
      ]
    },
    {
      "cell_type": "markdown",
      "source": [
        "# Сингулярное разложение матриц"
      ],
      "metadata": {
        "id": "Bro3KRN7A-Qi"
      }
    },
    {
      "cell_type": "markdown",
      "source": [
        "1. Найти с помощью NumPy SVD для матрицы\n",
        "\n",
        "$$\\begin{pmatrix}\n",
        "1 & 2 & 0\\\\ \n",
        "0 & 0 & 5\\\\ \n",
        "3 & -4 & 2\\\\ \n",
        "1 & 6 & 5\\\\ \n",
        "0 & 1 & 0\n",
        "\\end{pmatrix}.$$"
      ],
      "metadata": {
        "id": "7RSel_b6BbfD"
      }
    },
    {
      "cell_type": "code",
      "execution_count": 1,
      "metadata": {
        "id": "OzghisGwA5AJ"
      },
      "outputs": [],
      "source": [
        "import numpy as np\n",
        "np.set_printoptions(precision=2, suppress=True)"
      ]
    },
    {
      "cell_type": "code",
      "source": [
        "A = np.array([[1,2,0],[0,0,5],[3,-4,2],[1,6,5],[0,1,0]])"
      ],
      "metadata": {
        "id": "ywBN7iomznVH"
      },
      "execution_count": 2,
      "outputs": []
    },
    {
      "cell_type": "code",
      "source": [
        "U, s, W = np.linalg.svd(A)"
      ],
      "metadata": {
        "id": "No1Xs0Wwzqx_"
      },
      "execution_count": 3,
      "outputs": []
    },
    {
      "cell_type": "code",
      "source": [
        "D = np.zeros_like(A, dtype=float)\n",
        "D[np.diag_indices(min(A.shape))] = s"
      ],
      "metadata": {
        "id": "NhuK9rBuzxnl"
      },
      "execution_count": 4,
      "outputs": []
    },
    {
      "cell_type": "code",
      "source": [
        "print(f'Матрица A:\\n{A}')\n",
        "print(f'Матрица U:\\n{U}')\n",
        "print(f'Матрица D:\\n{D}')\n",
        "print(f'Матрица V:\\n{W.T}')"
      ],
      "metadata": {
        "colab": {
          "base_uri": "https://localhost:8080/"
        },
        "id": "FWDFrEE5z-Wi",
        "outputId": "757b9b25-cddc-4b9a-acdf-3927f327a92a"
      },
      "execution_count": 5,
      "outputs": [
        {
          "output_type": "stream",
          "name": "stdout",
          "text": [
            "Матрица A:\n",
            "[[ 1  2  0]\n",
            " [ 0  0  5]\n",
            " [ 3 -4  2]\n",
            " [ 1  6  5]\n",
            " [ 0  1  0]]\n",
            "Матрица U:\n",
            "[[ 0.17  0.16 -0.53 -0.8  -0.16]\n",
            " [ 0.39 -0.53  0.61 -0.43  0.03]\n",
            " [-0.14 -0.82 -0.52  0.14  0.07]\n",
            " [ 0.89  0.06 -0.25  0.38 -0.06]\n",
            " [ 0.08  0.11 -0.08 -0.11  0.98]]\n",
            "Матрица D:\n",
            "[[8.82 0.   0.  ]\n",
            " [0.   6.14 0.  ]\n",
            " [0.   0.   2.53]\n",
            " [0.   0.   0.  ]\n",
            " [0.   0.   0.  ]]\n",
            "Матрица V:\n",
            "[[ 0.07 -0.37 -0.93]\n",
            " [ 0.72  0.67 -0.21]\n",
            " [ 0.69 -0.65  0.31]]\n"
          ]
        }
      ]
    },
    {
      "cell_type": "code",
      "source": [
        "# Проведем проверку\n",
        "U@D@W"
      ],
      "metadata": {
        "colab": {
          "base_uri": "https://localhost:8080/"
        },
        "id": "J5mbnoV80cRL",
        "outputId": "6d28667a-6355-4c43-defe-1e1df300fae9"
      },
      "execution_count": 9,
      "outputs": [
        {
          "output_type": "execute_result",
          "data": {
            "text/plain": [
              "array([[ 1.,  2.,  0.],\n",
              "       [ 0., -0.,  5.],\n",
              "       [ 3., -4.,  2.],\n",
              "       [ 1.,  6.,  5.],\n",
              "       [-0.,  1., -0.]])"
            ]
          },
          "metadata": {},
          "execution_count": 9
        }
      ]
    },
    {
      "cell_type": "markdown",
      "source": [
        "### 2. Для матрицы из предыдущего задания найти:\n",
        "а) евклидову норму;"
      ],
      "metadata": {
        "id": "PtgJVCKb2gig"
      }
    },
    {
      "cell_type": "code",
      "source": [
        "np.linalg.norm(A, ord=2)"
      ],
      "metadata": {
        "colab": {
          "base_uri": "https://localhost:8080/"
        },
        "id": "R6GEqWyI2hXf",
        "outputId": "8097346f-9e1c-4e63-d96d-1c3698271afb"
      },
      "execution_count": 10,
      "outputs": [
        {
          "output_type": "execute_result",
          "data": {
            "text/plain": [
              "8.824868854820444"
            ]
          },
          "metadata": {},
          "execution_count": 10
        }
      ]
    },
    {
      "cell_type": "markdown",
      "source": [
        "б) норму Фробениуса."
      ],
      "metadata": {
        "id": "v107e3Co36mx"
      }
    },
    {
      "cell_type": "markdown",
      "source": [
        "В случае, когда известно сингулярное разложение матрицы, ее норма Фробениуса вычисляется как\n",
        "\n",
        "$$\\left \\| A \\right \\|_{F}=\\sqrt{\\sum_{k=1}^{r}\\mu_{k}^{2}}.$$"
      ],
      "metadata": {
        "id": "4L4plgtY4ZzX"
      }
    },
    {
      "cell_type": "code",
      "source": [
        "U,s,W = np.linalg.svd(A)"
      ],
      "metadata": {
        "id": "jzTkhwM73_Ag"
      },
      "execution_count": 12,
      "outputs": []
    },
    {
      "cell_type": "code",
      "source": [
        "frob_norm = np.sqrt(np.sum(s**2))\n",
        "print(f'Норма фробениуса для матрицы A:\\n{frob_norm}')"
      ],
      "metadata": {
        "colab": {
          "base_uri": "https://localhost:8080/"
        },
        "id": "S4cNoKrB4tYK",
        "outputId": "5ef61ac9-4b6b-4686-b5b7-e5ca1f27b97e"
      },
      "execution_count": 13,
      "outputs": [
        {
          "output_type": "stream",
          "name": "stdout",
          "text": [
            "Норма фробениуса для матрицы A:\n",
            "11.045361017187263\n"
          ]
        }
      ]
    },
    {
      "cell_type": "markdown",
      "source": [
        "Найдем стандартным методом модуля linalg:"
      ],
      "metadata": {
        "id": "J_fzTQYH44XW"
      }
    },
    {
      "cell_type": "code",
      "source": [
        "print(f\"Норма фробениуса для матрицы A:\\n{np.linalg.norm(A, ord='fro')}\")"
      ],
      "metadata": {
        "colab": {
          "base_uri": "https://localhost:8080/"
        },
        "id": "0kqGQi1f449V",
        "outputId": "a326233e-224b-4e17-e4a3-591c72da4a04"
      },
      "execution_count": 15,
      "outputs": [
        {
          "output_type": "stream",
          "name": "stdout",
          "text": [
            "Норма фробениуса для матрицы A:\n",
            "11.045361017187261\n"
          ]
        }
      ]
    }
  ]
}