{
  "nbformat": 4,
  "nbformat_minor": 0,
  "metadata": {
    "colab": {
      "name": "hw2.1-2.2.ipynb",
      "provenance": [],
      "collapsed_sections": [],
      "authorship_tag": "ABX9TyNQge9DTn6C+2yEwwZczKBB",
      "include_colab_link": true
    },
    "kernelspec": {
      "name": "python3",
      "display_name": "Python 3"
    },
    "language_info": {
      "name": "python"
    }
  },
  "cells": [
    {
      "cell_type": "markdown",
      "metadata": {
        "id": "view-in-github",
        "colab_type": "text"
      },
      "source": [
        "<a href=\"https://colab.research.google.com/github/ddekun/Linear_algebra/blob/lesson2/lesson2/hw2_1_2_2.ipynb\" target=\"_parent\"><img src=\"https://colab.research.google.com/assets/colab-badge.svg\" alt=\"Open In Colab\"/></a>"
      ]
    },
    {
      "cell_type": "markdown",
      "source": [
        "# Матрицы и матричные операции. Часть 1"
      ],
      "metadata": {
        "id": "LBnwYwf0UEDm"
      }
    },
    {
      "cell_type": "code",
      "source": [
        "import numpy as np"
      ],
      "metadata": {
        "id": "CVzrJuiFhI7X"
      },
      "execution_count": 19,
      "outputs": []
    },
    {
      "cell_type": "markdown",
      "source": [
        "### __1.__ Установить, какие произведения матриц $AB$ и $BA$ определены, и найти размерности полученных матриц:\n",
        "\n",
        "   а) $A$ — матрица $4\\times 2$, $B$ — матрица $4\\times 2$;\n",
        "    \n",
        "   б) $A$ — матрица $2\\times 5$, $B$ — матрица $5\\times 3$;\n",
        "    \n",
        "   в) $A$ — матрица $8\\times 3$, $B$ — матрица $3\\times 8$;\n",
        "    \n",
        "   г) $A$ — квадратная матрица $4\\times 4$, $B$ — квадратная матрица $4\\times 4$."
      ],
      "metadata": {
        "id": "3mOfxUxCUwrq"
      }
    },
    {
      "cell_type": "markdown",
      "source": [
        "__Решение__<br>\n",
        "a) Произведения матриц $AB$  и  $BA$ не определены, так как столбцы матрицы A не соответствуют строкам матрицы B и наоборот.<br>\n",
        "б) Произведения матриц $AB$ - определены и имеют размер 2x3. Произведения матриц $BA$ не определены, так как столбцы матрицы B не соответствуют строкам матрицы A.<br>\n",
        "в) Произведения матриц $AB$ - определены и имеют размер 8x8. Произведения матриц $BA$ - определены и имеют размер 3x3.<br>\n",
        "г) Произведения матриц $AB$  и  $BA$ определены и имеют размер 4x4."
      ],
      "metadata": {
        "id": "ZGy7mSPoVPUS"
      }
    },
    {
      "cell_type": "markdown",
      "source": [
        "### __2.__ Найти сумму и произведение матриц $A=\\begin{pmatrix}\n",
        "1 & -2\\\\ \n",
        "3 & 0\n",
        "\\end{pmatrix}$ и $B=\\begin{pmatrix}\n",
        "4 & -1\\\\ \n",
        "0 & 5\n",
        "\\end{pmatrix}.$"
      ],
      "metadata": {
        "id": "WOvNZVu4ZwpC"
      }
    },
    {
      "cell_type": "markdown",
      "source": [
        "__Решение__<br>\n",
        "$$A + B =\\begin{pmatrix}\n",
        "1 & -2\\\\ \n",
        "3 & 0\n",
        "\\end{pmatrix} + \\begin{pmatrix}\n",
        "4 & -1\\\\ \n",
        "0 & 5\n",
        "\\end{pmatrix} = \\begin{pmatrix}\n",
        "5 & -3\\\\ \n",
        "3 & 5\n",
        "\\end{pmatrix}.$$\n",
        "$$A \\cdot B =\\begin{pmatrix}\n",
        "1 & -2\\\\ \n",
        "3 & 0\n",
        "\\end{pmatrix} \\cdot\n",
        "\\begin{pmatrix}\n",
        "4 & -1\\\\ \n",
        "0 & 5\n",
        "\\end{pmatrix} = \n",
        "\\begin{pmatrix}\n",
        "1\\cdot 4 + (-2)\\cdot 0 & 1\\cdot(-1) + (-2)\\cdot 5\\\\ \n",
        "3\\cdot 4 + 0\\cdot 0 & 3\\cdot(-1) + 0\\cdot 5\n",
        "\\end{pmatrix} = \n",
        "\\begin{pmatrix}\n",
        "4 & -11\\\\ \n",
        "12 & -3\n",
        "\\end{pmatrix}.$$\n",
        "$$B \\cdot A =\\begin{pmatrix}\n",
        "4 & -1\\\\ \n",
        "0 & 5\n",
        "\\end{pmatrix} \\cdot\n",
        "\\begin{pmatrix}\n",
        "1 & -2\\\\ \n",
        "3 & 0\n",
        "\\end{pmatrix} = \n",
        "\\begin{pmatrix}\n",
        "4\\cdot 1 + (-1)\\cdot 3 & 4\\cdot(-2) + (-1)\\cdot 0\\\\ \n",
        "0\\cdot 1 + 5\\cdot 3 & 0\\cdot(-2) + 5\\cdot 0\n",
        "\\end{pmatrix} = \n",
        "\\begin{pmatrix}\n",
        "1 & -8\\\\ \n",
        "15 & 0\n",
        "\\end{pmatrix}.$$"
      ],
      "metadata": {
        "id": "dppFpS9fZ-pb"
      }
    },
    {
      "cell_type": "markdown",
      "source": [
        "__Решение c numpy__"
      ],
      "metadata": {
        "id": "xlKlSSdqglkw"
      }
    },
    {
      "cell_type": "code",
      "source": [
        "A = np.array([[1, -2], [3, 0]])\n",
        "B = np.array([[4, -1], [0, 5]])\n",
        "print(f'Сумма матриц:\\n{A+B}')\n",
        "print(f'Произведение матриц A*B:\\n{A@B}')\n",
        "print(f'Произведение матриц B*A:\\n{B@A}')"
      ],
      "metadata": {
        "colab": {
          "base_uri": "https://localhost:8080/"
        },
        "id": "cGSJeCogYWok",
        "outputId": "c5a52e49-006a-4e3f-b314-61d5de7a7f15"
      },
      "execution_count": 20,
      "outputs": [
        {
          "output_type": "stream",
          "name": "stdout",
          "text": [
            "Сумма матриц:\n",
            "[[ 5 -3]\n",
            " [ 3  5]]\n",
            "Произведение матриц A*B:\n",
            "[[  4 -11]\n",
            " [ 12  -3]]\n",
            "Произведение матриц B*A:\n",
            "[[ 1 -8]\n",
            " [15  0]]\n"
          ]
        }
      ]
    },
    {
      "cell_type": "markdown",
      "source": [
        "### __3.__ Из закономерностей сложения и умножения матриц на число можно сделать вывод, что матрицы одного размера образуют линейное пространство. Вычислить линейную комбинацию $3A-2B+4C$ для матриц $A=\\begin{pmatrix}\n",
        "1 & 7\\\\ \n",
        "3 & -6\n",
        "\\end{pmatrix}$, $B=\\begin{pmatrix}\n",
        "0 & 5\\\\ \n",
        "2 & -1\n",
        "\\end{pmatrix}$, $C=\\begin{pmatrix}\n",
        "2 & -4\\\\ \n",
        "1 & 1\n",
        "\\end{pmatrix}.$"
      ],
      "metadata": {
        "id": "MfyCxdV_in1p"
      }
    },
    {
      "cell_type": "markdown",
      "source": [
        "__Решение__<br>\n",
        "$$3A-2B+4C=3\\cdot\n",
        "\\begin{pmatrix}\n",
        "1 & 7\\\\ \n",
        "3 & -6\n",
        "\\end{pmatrix}-2\\cdot\\begin{pmatrix}\n",
        "0 & 5\\\\ \n",
        "2 & -1\n",
        "\\end{pmatrix}+4\\cdot\\begin{pmatrix}\n",
        "2 & -4\\\\ \n",
        "1 & 1\n",
        "\\end{pmatrix}=\\begin{pmatrix}\n",
        "1\\cdot3 & 7\\cdot3\\\\ \n",
        "3\\cdot3 & -6\\cdot3\n",
        "\\end{pmatrix}-\\begin{pmatrix}\n",
        "0\\cdot2 & 5\\cdot2\\\\ \n",
        "2\\cdot2 & -1\\cdot2\n",
        "\\end{pmatrix}+\\begin{pmatrix}\n",
        "2\\cdot4 & -4\\cdot4\\\\ \n",
        "1\\cdot4 & 1\\cdot4\n",
        "\\end{pmatrix}=\\begin{pmatrix}\n",
        "3 & 21\\\\ \n",
        "9 & -18\n",
        "\\end{pmatrix}-\\begin{pmatrix}\n",
        "0 & 10\\\\ \n",
        "4 & -2\n",
        "\\end{pmatrix}+\\begin{pmatrix}\n",
        "8 & -16\\\\ \n",
        "4 & 4\n",
        "\\end{pmatrix}=\\begin{pmatrix}\n",
        "3-0+8 & 21-10-16\\\\ \n",
        "9-4+4 & -18+2+4\n",
        "\\end{pmatrix}=\\begin{pmatrix}\n",
        "11 & -5\\\\ \n",
        "9 & -12\n",
        "\\end{pmatrix}$$"
      ],
      "metadata": {
        "id": "ZBDh7mINlomn"
      }
    },
    {
      "cell_type": "markdown",
      "source": [
        "__Решение c numpy__"
      ],
      "metadata": {
        "id": "ASsrSkkg7oG7"
      }
    },
    {
      "cell_type": "code",
      "source": [
        "A = np.array([[1, 7], [3, -6]])\n",
        "B = np.array([[0, 5], [2, -1]])\n",
        "C = np.array([[2, -4], [1, 1]])\n",
        "print(f'Линейная комбинация 3A-2B+4C будет равна\\n{3*A-2*B+4*C}')"
      ],
      "metadata": {
        "id": "lPK83PEVhCXD",
        "colab": {
          "base_uri": "https://localhost:8080/"
        },
        "outputId": "509af87b-8ba4-4259-ff1a-d84759e403ba"
      },
      "execution_count": 21,
      "outputs": [
        {
          "output_type": "stream",
          "name": "stdout",
          "text": [
            "Линейная комбинация 3A-2B+4C будет равна\n",
            "[[ 11  -5]\n",
            " [  9 -12]]\n"
          ]
        }
      ]
    },
    {
      "cell_type": "markdown",
      "source": [
        "### __4.__ Дана матрица $A=\\begin{pmatrix}\n",
        "4 & 1\\\\ \n",
        "5 & -2\\\\ \n",
        "2 & 3\n",
        "\\end{pmatrix}$. Вычислить $AA^{T}$ и $A^{T}A$."
      ],
      "metadata": {
        "id": "6JU_9CT89JNJ"
      }
    },
    {
      "cell_type": "markdown",
      "source": [
        "__Решение__<br>\n",
        "$A^{T}=\\begin{pmatrix}\n",
        "4 & 5 & 2\\\\ \n",
        "1 & -2 & 3\n",
        "\\end{pmatrix}.$"
      ],
      "metadata": {
        "id": "EvnqBg3hLo16"
      }
    },
    {
      "cell_type": "markdown",
      "source": [
        "$AA^{T}=\\begin{pmatrix}\n",
        "4 & 1\\\\ \n",
        "5 & -2\\\\ \n",
        "2 & 3\n",
        "\\end{pmatrix}\\cdot\n",
        "\\begin{pmatrix}\n",
        "4 & 5 & 2\\\\ \n",
        "1 & -2 & 3\n",
        "\\end{pmatrix}=\n",
        "\\begin{pmatrix}\n",
        "4\\cdot4+1\\cdot1 & 4\\cdot5+1\\cdot(-2) & 4\\cdot2+1\\cdot3\\\\ \n",
        "5\\cdot4+(-2)\\cdot1 & 5\\cdot5+(-2)\\cdot(-2) & 5\\cdot2+(-2)\\cdot3\\\\\n",
        "2\\cdot4+3\\cdot1 & 2\\cdot5+3\\cdot(-2) & 2\\cdot2+3\\cdot3\n",
        "\\end{pmatrix}=\\begin{pmatrix}\n",
        "17 & 18 & 11\\\\ \n",
        "18 & 29 & 4\\\\\n",
        "11 & 4 & 13\n",
        "\\end{pmatrix}.$"
      ],
      "metadata": {
        "id": "GRpLUM6nMGse"
      }
    },
    {
      "cell_type": "markdown",
      "source": [
        "$A^{T}A=\n",
        "\\begin{pmatrix}\n",
        "4 & 5 & 2\\\\ \n",
        "1 & -2 & 3\n",
        "\\end{pmatrix}\\cdot\n",
        "\\begin{pmatrix}\n",
        "4 & 1\\\\ \n",
        "5 & -2\\\\ \n",
        "2 & 3\n",
        "\\end{pmatrix}=\n",
        "\\begin{pmatrix}\n",
        "4\\cdot4+5\\cdot5+2\\cdot2 & 4\\cdot1+5\\cdot(-2)+2\\cdot3\\\\ \n",
        "1\\cdot4+(-2)\\cdot5+3\\cdot2 & 1\\cdot1+(-2)\\cdot(-2)+3\\cdot3\n",
        "\\end{pmatrix}=\\begin{pmatrix}\n",
        "45 & 0\\\\ \n",
        "0 & 14\n",
        "\\end{pmatrix}.$"
      ],
      "metadata": {
        "id": "xbOSXtvcPpnd"
      }
    },
    {
      "cell_type": "markdown",
      "source": [
        "__Решение c numpy__"
      ],
      "metadata": {
        "id": "oD7FBha6RfHc"
      }
    },
    {
      "cell_type": "code",
      "source": [
        "A = np.array([[4, 1], [5, -2], [2, 3]])\n",
        "A"
      ],
      "metadata": {
        "id": "4O1kOeRN8PU3",
        "colab": {
          "base_uri": "https://localhost:8080/"
        },
        "outputId": "770cead2-8dc9-4381-f2c0-8a29c377e778"
      },
      "execution_count": 22,
      "outputs": [
        {
          "output_type": "execute_result",
          "data": {
            "text/plain": [
              "array([[ 4,  1],\n",
              "       [ 5, -2],\n",
              "       [ 2,  3]])"
            ]
          },
          "metadata": {},
          "execution_count": 22
        }
      ]
    },
    {
      "cell_type": "code",
      "source": [
        "trans_A = A.T\n",
        "trans_A"
      ],
      "metadata": {
        "colab": {
          "base_uri": "https://localhost:8080/"
        },
        "id": "0e7c51ckRteS",
        "outputId": "385713bd-648a-4c77-be79-ab0e74049096"
      },
      "execution_count": 23,
      "outputs": [
        {
          "output_type": "execute_result",
          "data": {
            "text/plain": [
              "array([[ 4,  5,  2],\n",
              "       [ 1, -2,  3]])"
            ]
          },
          "metadata": {},
          "execution_count": 23
        }
      ]
    },
    {
      "cell_type": "code",
      "source": [
        "A@trans_A"
      ],
      "metadata": {
        "colab": {
          "base_uri": "https://localhost:8080/"
        },
        "id": "DEjeJbYoSJku",
        "outputId": "d5f271d4-99d1-47ca-c27e-13bc93431252"
      },
      "execution_count": 24,
      "outputs": [
        {
          "output_type": "execute_result",
          "data": {
            "text/plain": [
              "array([[17, 18, 11],\n",
              "       [18, 29,  4],\n",
              "       [11,  4, 13]])"
            ]
          },
          "metadata": {},
          "execution_count": 24
        }
      ]
    },
    {
      "cell_type": "code",
      "source": [
        "trans_A@A"
      ],
      "metadata": {
        "colab": {
          "base_uri": "https://localhost:8080/"
        },
        "id": "F_eWweW-SwXm",
        "outputId": "26d363c9-304c-45ac-a7de-b204cac81c5b"
      },
      "execution_count": 25,
      "outputs": [
        {
          "output_type": "execute_result",
          "data": {
            "text/plain": [
              "array([[45,  0],\n",
              "       [ 0, 14]])"
            ]
          },
          "metadata": {},
          "execution_count": 25
        }
      ]
    },
    {
      "cell_type": "markdown",
      "source": [
        "### __5*.__ Написать на Python функцию для перемножения двух произвольных матриц, не используя NumPy."
      ],
      "metadata": {
        "id": "8oMPEcJJS26c"
      }
    },
    {
      "cell_type": "code",
      "source": [
        "def multiplicate_matrix(left,right):\n",
        "    try: \n",
        "        left.shape[1]==right.shape[0]\n",
        "        result=[]\n",
        "        temp=[]\n",
        "        s=0\n",
        "        for i in range(left.shape[0]):\n",
        "            for j in range(right.shape[1]):\n",
        "                for k in range(right.shape[0]):\n",
        "                    s+=left[i][k]*right[k][j]\n",
        "                temp.append(s)\n",
        "                s=0\n",
        "            result.append(temp)\n",
        "            temp=[]\n",
        "        return np.array(result)\n",
        "    except Exception:\n",
        "        print('Произведение матриц таких размеров не определено!')"
      ],
      "metadata": {
        "id": "Zrg5voeaSzRZ"
      },
      "execution_count": 26,
      "outputs": []
    },
    {
      "cell_type": "code",
      "source": [
        "A=np.array([[1, 3], [3, 4], [2, 5], [1, 7]])\n",
        "B=np.array([[3, -2, 1, 4], [0 , 6, 1, -1]])"
      ],
      "metadata": {
        "id": "XZ9bO6MKTvwe"
      },
      "execution_count": 27,
      "outputs": []
    },
    {
      "cell_type": "code",
      "source": [
        "A@B"
      ],
      "metadata": {
        "colab": {
          "base_uri": "https://localhost:8080/"
        },
        "id": "5-Rfx82yT1aH",
        "outputId": "416a86e7-abe7-4020-f354-5f39f12bf3ca"
      },
      "execution_count": 28,
      "outputs": [
        {
          "output_type": "execute_result",
          "data": {
            "text/plain": [
              "array([[ 3, 16,  4,  1],\n",
              "       [ 9, 18,  7,  8],\n",
              "       [ 6, 26,  7,  3],\n",
              "       [ 3, 40,  8, -3]])"
            ]
          },
          "metadata": {},
          "execution_count": 28
        }
      ]
    },
    {
      "cell_type": "code",
      "source": [
        "\n",
        "multiplicate_matrix(A,B)"
      ],
      "metadata": {
        "colab": {
          "base_uri": "https://localhost:8080/"
        },
        "id": "QWAEhi3jT3hR",
        "outputId": "5c04474a-def5-4a16-b67d-559d45c63fa8"
      },
      "execution_count": 29,
      "outputs": [
        {
          "output_type": "execute_result",
          "data": {
            "text/plain": [
              "array([[ 3, 16,  4,  1],\n",
              "       [ 9, 18,  7,  8],\n",
              "       [ 6, 26,  7,  3],\n",
              "       [ 3, 40,  8, -3]])"
            ]
          },
          "metadata": {},
          "execution_count": 29
        }
      ]
    },
    {
      "cell_type": "code",
      "source": [
        "B@A"
      ],
      "metadata": {
        "colab": {
          "base_uri": "https://localhost:8080/"
        },
        "id": "NZl3dPwjT9D5",
        "outputId": "bfea4ca0-f00a-4dc4-af2b-a1cc49d9afdb"
      },
      "execution_count": 30,
      "outputs": [
        {
          "output_type": "execute_result",
          "data": {
            "text/plain": [
              "array([[ 3, 34],\n",
              "       [19, 22]])"
            ]
          },
          "metadata": {},
          "execution_count": 30
        }
      ]
    },
    {
      "cell_type": "code",
      "source": [
        "\n",
        "multiplicate_matrix(B,A)"
      ],
      "metadata": {
        "colab": {
          "base_uri": "https://localhost:8080/"
        },
        "id": "LgtGvcn4T-UZ",
        "outputId": "cfe241b6-c0f7-4d62-d4b9-12f9542cdbd4"
      },
      "execution_count": 31,
      "outputs": [
        {
          "output_type": "execute_result",
          "data": {
            "text/plain": [
              "array([[ 3, 34],\n",
              "       [19, 22]])"
            ]
          },
          "metadata": {},
          "execution_count": 31
        }
      ]
    },
    {
      "cell_type": "markdown",
      "source": [
        "# Матрицы и матричные операции. Часть 2"
      ],
      "metadata": {
        "id": "8Yyi8vSBUh92"
      }
    },
    {
      "cell_type": "markdown",
      "source": [
        "### __1.__ Вычислить определитель:\n",
        "\n",
        "   a)\n",
        "\n",
        "$\\begin{vmatrix}\n",
        "sinx & -cosx\\\\ \n",
        "cosx & sinx\n",
        "\\end{vmatrix};$\n",
        "\n",
        "   б)\n",
        "    \n",
        "$\\begin{vmatrix}\n",
        "4 & 2 & 3\\\\ \n",
        "0 & 5 & 1\\\\ \n",
        "0 & 0 & 9\n",
        "\\end{vmatrix};$\n",
        "    \n",
        "   в)\n",
        "\n",
        "$\\begin{vmatrix}\n",
        "1 & 2 & 3\\\\ \n",
        "4 & 5 & 6\\\\ \n",
        "7 & 8 & 9\n",
        "\\end{vmatrix}.$"
      ],
      "metadata": {
        "id": "zNlLa5KVVG_Q"
      }
    },
    {
      "cell_type": "markdown",
      "source": [
        "a) __Решение__<br>\n",
        "Если порядок матрицы равен $2$, то есть матрица имеет вид\n",
        "\n",
        "$$A=\\begin{pmatrix}\n",
        "a_{11} & a_{12}\\\\ \n",
        "a_{21} & a_{22}\n",
        "\\end{pmatrix}.$$\n",
        "Определитель матрицы $A$ обозначается как $detA$, или $|A|$, то есть определитель второго порядка можно записать как\n",
        "\n",
        "$$detA=|A|=\\begin{vmatrix}\n",
        "a_{11} & a_{12}\\\\ \n",
        "a_{21} & a_{22}\n",
        "\\end{vmatrix}=a_{11}a_{22} - a_{12}a_{21}.$$\n",
        "Тогда:<br>\n",
        "$\\begin{vmatrix}\n",
        "sinx & -cosx\\\\ \n",
        "cosx & sinx\n",
        "\\end{vmatrix};$<br>\n",
        "$sinx\\cdot sinx -(-cosx)cosx=sin^2x+cos^2x=1;$"
      ],
      "metadata": {
        "id": "SBN_tUkPVKsr"
      }
    },
    {
      "cell_type": "markdown",
      "source": [
        "__Решение c numpy__"
      ],
      "metadata": {
        "id": "-3U8MUsQvAPg"
      }
    },
    {
      "cell_type": "code",
      "source": [
        "A=np.array([[np.sin(x), -np.cos(x)], [np.cos(x), np.sin(x)]])\n",
        "np.linalg.det(A)"
      ],
      "metadata": {
        "colab": {
          "base_uri": "https://localhost:8080/"
        },
        "id": "2j7A9gbfvdyp",
        "outputId": "1ebc03ad-cc7e-4c5a-825a-281111ea55e8"
      },
      "execution_count": 32,
      "outputs": [
        {
          "output_type": "execute_result",
          "data": {
            "text/plain": [
              "0.9999999999999999"
            ]
          },
          "metadata": {},
          "execution_count": 32
        }
      ]
    },
    {
      "cell_type": "markdown",
      "source": [
        "б) __Решение__<br>"
      ],
      "metadata": {
        "id": "J8HYXWl0v6BI"
      }
    },
    {
      "cell_type": "markdown",
      "source": [
        "Определитель матрицы треугольного вида равен произведению элементов, стоящих на ее главной диагонали.<br>\n",
        "$detB=4\\cdot5\\cdot9=180$"
      ],
      "metadata": {
        "id": "meMBmDWuwDPZ"
      }
    },
    {
      "cell_type": "markdown",
      "source": [
        "__Решение c numpy__"
      ],
      "metadata": {
        "id": "fFz6rwg9wrpv"
      }
    },
    {
      "cell_type": "code",
      "source": [
        "B = np.array([[4, 2, 3], [0, 5, 1], [0, 0, 9]])  \n",
        "np.linalg.det(B)"
      ],
      "metadata": {
        "colab": {
          "base_uri": "https://localhost:8080/"
        },
        "id": "omkohW75wza5",
        "outputId": "247982a5-0351-4e91-c63d-d8f8b34fabfd"
      },
      "execution_count": 33,
      "outputs": [
        {
          "output_type": "execute_result",
          "data": {
            "text/plain": [
              "180.0"
            ]
          },
          "metadata": {},
          "execution_count": 33
        }
      ]
    },
    {
      "cell_type": "markdown",
      "source": [
        "в) __Решение__<br>\n",
        "Разложим по элементам первой строки:<br>\n",
        "$detC=1⋅\\begin{pmatrix}\n",
        "5 & 6\\\\\n",
        "8 & 9\n",
        "\\end{pmatrix}-2⋅\\begin{pmatrix}\n",
        "4 & 6\\\\\n",
        "7 & 9\n",
        "\\end{pmatrix}+3\\cdot\\begin{pmatrix}\n",
        "4 & 5\\\\\n",
        "7 & 8\n",
        "\\end{pmatrix}=1⋅(5⋅9-6\\cdot8)-2⋅(4⋅9-6\\cdot7+3⋅(4⋅8-5\\cdot7)=0$"
      ],
      "metadata": {
        "id": "Ku-3iVoNw55q"
      }
    },
    {
      "cell_type": "markdown",
      "source": [
        "__Решение c numpy__"
      ],
      "metadata": {
        "id": "_AaMJZHmy0V8"
      }
    },
    {
      "cell_type": "code",
      "source": [
        "C=np.array([[1, 2, 3], [4, 5, 6], [7, 8, 9]])  \n",
        "np.linalg.det(C)"
      ],
      "metadata": {
        "colab": {
          "base_uri": "https://localhost:8080/"
        },
        "id": "yWAzABbFw9SV",
        "outputId": "ee08b526-58ed-46a2-b063-be552bb078b5"
      },
      "execution_count": 34,
      "outputs": [
        {
          "output_type": "execute_result",
          "data": {
            "text/plain": [
              "0.0"
            ]
          },
          "metadata": {},
          "execution_count": 34
        }
      ]
    },
    {
      "cell_type": "markdown",
      "source": [
        "### __2.__ Определитель матрицы $A$ равен $4$. Найти:\n",
        "\n",
        "   а) $det(A^{2})$;\n",
        "    \n",
        "   б) $det(A^{T})$;\n",
        "    \n",
        "   в) $det(2A)$."
      ],
      "metadata": {
        "id": "WA0dtkWIzjc-"
      }
    },
    {
      "cell_type": "markdown",
      "source": [
        " __Решение__<br>\n",
        "a) Для двух квадратных матриц одинакового размера\n",
        "\n",
        "$det(AB)=detA\\cdot detB.$"
      ],
      "metadata": {
        "id": "n6EahgFizwme"
      }
    },
    {
      "cell_type": "markdown",
      "source": [
        "$det(A^2)=det(A\\cdot A)=det(A)\\cdot det(A)=4\\cdot4=16$"
      ],
      "metadata": {
        "id": "80TXIjRI0Exv"
      }
    },
    {
      "cell_type": "markdown",
      "source": [
        "б) Определитель транспонированной матрицы равен определителю исходной:\n",
        "\n",
        "$detA^{T}=detA$\n",
        "\n",
        "$detA^{T}=4$"
      ],
      "metadata": {
        "id": "yYMzL4mQ0eKn"
      }
    },
    {
      "cell_type": "markdown",
      "source": [
        "в)Умножение строки или столбца матрицы на число $\\lambda$ приведет к умножению определителя матрицы на то же число.\n",
        "\n",
        "$det(2A)=2\\cdot4=8$"
      ],
      "metadata": {
        "id": "ynVa3vTg038P"
      }
    },
    {
      "cell_type": "markdown",
      "source": [
        "### __3.__  Доказать, что матрица\n",
        "\n",
        "$$\\begin{pmatrix}\n",
        "-2 & 7 & -3\\\\ \n",
        "4 & -14 & 6\\\\ \n",
        "-3 & 7 & 13\n",
        "\\end{pmatrix}$$\n",
        "   \n",
        "вырожденная."
      ],
      "metadata": {
        "id": "VGMCV74y1q_P"
      }
    },
    {
      "cell_type": "markdown",
      "source": [
        "__Решение__<br>\n",
        "Поскольку мы можем представить вторую строку данной матрицы $(4,-14,6)$через первую строку $(-2,7,-3)$ как $(4,-14,6)=-2⋅(-2,7,-3)$, т.е. две строки (столбца) матрицы линейно зависимы, а значит её определитель равен 0, т.е.\n",
        "такая матрица, согласно определению, является вырожденной."
      ],
      "metadata": {
        "id": "RIyqHU-l2YDS"
      }
    },
    {
      "cell_type": "markdown",
      "source": [
        "__Решение c numpy__"
      ],
      "metadata": {
        "id": "B7asTPui3a0O"
      }
    },
    {
      "cell_type": "code",
      "source": [
        "A = np.array([[-2, 7, -3], [4, -14, 6], [-3 , 7, 13]])\n",
        "np.linalg.det(A)"
      ],
      "metadata": {
        "colab": {
          "base_uri": "https://localhost:8080/"
        },
        "id": "7440zHQ50Ath",
        "outputId": "3504990e-c26a-4674-bf81-696396ea9b58"
      },
      "execution_count": 35,
      "outputs": [
        {
          "output_type": "execute_result",
          "data": {
            "text/plain": [
              "0.0"
            ]
          },
          "metadata": {},
          "execution_count": 35
        }
      ]
    },
    {
      "cell_type": "markdown",
      "source": [
        "__4.__ Найти ранг матрицы:\n",
        "\n",
        "   а) $\\begin{pmatrix}\n",
        "1 & 2 & 3\\\\ \n",
        "1 & 1 & 1\\\\ \n",
        "2 & 3 & 4\n",
        "\\end{pmatrix};$\n",
        "\n",
        "   б) $\\begin{pmatrix}\n",
        "0 & 0 & 2 & 1\\\\ \n",
        "0 & 0 & 2 & 2\\\\ \n",
        "0 & 0 & 4 & 3\\\\ \n",
        "2 & 3 & 5 & 6\n",
        "\\end{pmatrix}.$"
      ],
      "metadata": {
        "id": "XSW3y2i83lWM"
      }
    },
    {
      "cell_type": "markdown",
      "source": [
        "__Решение__<br>\n",
        "а)Третья строка является суммой первой и второй строк, а значит, ее можно отбросить:\n",
        "\n",
        "$\\begin{pmatrix}\n",
        "1 & 2 & 3\\\\ \n",
        "1 & 1 & 1\n",
        "\\end{pmatrix}$\n",
        "\n",
        "Из первой строки вычтем вторуюб и поменяем строки местами:\n",
        "\n",
        "$\\begin{pmatrix}\n",
        "1 & 1 & 1\\\\ \n",
        "0 & 1 & 2\n",
        "\\end{pmatrix}$\n",
        "\n",
        "Ранг матрицы равен $2$"
      ],
      "metadata": {
        "id": "f_Pz6ulD3n_U"
      }
    },
    {
      "cell_type": "markdown",
      "source": [
        "__Решение c numpy__"
      ],
      "metadata": {
        "id": "5pczC6lz4Vak"
      }
    },
    {
      "cell_type": "code",
      "source": [
        "A = np.array([[1,2,3],[1,1,1],[2,3,4]])\n",
        "np.linalg.matrix_rank(A)"
      ],
      "metadata": {
        "colab": {
          "base_uri": "https://localhost:8080/"
        },
        "id": "pdjZjxZ74YCg",
        "outputId": "a0073a12-2b80-4142-bd25-8d2c56b19559"
      },
      "execution_count": 36,
      "outputs": [
        {
          "output_type": "execute_result",
          "data": {
            "text/plain": [
              "2"
            ]
          },
          "metadata": {},
          "execution_count": 36
        }
      ]
    },
    {
      "cell_type": "markdown",
      "source": [
        "б) __Решение__<br>\n",
        "Третья строка является суммой первой и второй строки, отбрасываем:\n",
        "\n",
        "$\\begin{pmatrix}\n",
        "0 & 0 & 2 & 1\\\\ \n",
        "0 & 0 & 2 & 2\\\\ \n",
        "2 & 3 & 5 & 6\n",
        "\\end{pmatrix}$\n",
        "\n",
        "Вычтем вторую строку из первой:\n",
        "\n",
        "$\\begin{pmatrix}\n",
        "0 & 0 & 0 & -1\\\\ \n",
        "0 & 0 & 2 & 2\\\\ \n",
        "2 & 3 & 5 & 6\n",
        "\\end{pmatrix}$\n",
        "\n",
        "Удалим второй столбец, который можно выразить через первый:\n",
        "\n",
        "$\\begin{pmatrix}\n",
        "0 & 0 & -1\\\\ \n",
        "0 & 2 & 2\\\\ \n",
        "2 & 5 & 6\n",
        "\\end{pmatrix}$\n",
        "\n",
        "Поменяем местами первую и третью строки:\n",
        "\n",
        "$\\begin{pmatrix}\n",
        "2 & 5 & 6\\\\ \n",
        "0 & 2 & 2\\\\ \n",
        "0 & 0 & -1\n",
        "\\end{pmatrix}$\n",
        "\n",
        "Ранг матрицы равен $3$"
      ],
      "metadata": {
        "id": "RQGbXwLd4h07"
      }
    },
    {
      "cell_type": "markdown",
      "source": [
        "__Решение c numpy__"
      ],
      "metadata": {
        "id": "nP28rlDC6Haq"
      }
    },
    {
      "cell_type": "code",
      "source": [
        "B = np.array([[0,0,2,1],[0,0,2,2],[0,0,4,3],[2,3,5,6]])\n",
        "np.linalg.matrix_rank(B)"
      ],
      "metadata": {
        "colab": {
          "base_uri": "https://localhost:8080/"
        },
        "id": "zo0mm5R76F2P",
        "outputId": "b47a6591-97bd-49f9-dc21-810fa9f7852e"
      },
      "execution_count": 37,
      "outputs": [
        {
          "output_type": "execute_result",
          "data": {
            "text/plain": [
              "3"
            ]
          },
          "metadata": {},
          "execution_count": 37
        }
      ]
    }
  ]
}