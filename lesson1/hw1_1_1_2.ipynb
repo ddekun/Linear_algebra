{
  "nbformat": 4,
  "nbformat_minor": 0,
  "metadata": {
    "colab": {
      "name": "hw1.1-1.2.ipynb",
      "provenance": [],
      "collapsed_sections": [
        "9yIyyGzuxgyW"
      ],
      "authorship_tag": "ABX9TyNtxl3C1rh159IBh2h9PCUq",
      "include_colab_link": true
    },
    "kernelspec": {
      "name": "python3",
      "display_name": "Python 3"
    },
    "language_info": {
      "name": "python"
    }
  },
  "cells": [
    {
      "cell_type": "markdown",
      "metadata": {
        "id": "view-in-github",
        "colab_type": "text"
      },
      "source": [
        "<a href=\"https://colab.research.google.com/github/ddekun/Linear_algebra/blob/hw1/lesson1/hw1_1_1_2.ipynb\" target=\"_parent\"><img src=\"https://colab.research.google.com/assets/colab-badge.svg\" alt=\"Open In Colab\"/></a>"
      ]
    },
    {
      "cell_type": "markdown",
      "source": [
        "# Линейное пространство. Основные понятия. Часть 1"
      ],
      "metadata": {
        "id": "X7281d4wL8pz"
      }
    },
    {
      "cell_type": "markdown",
      "source": [
        "### __1.__ Исследовать на линейную зависимость:\n",
        "### $$f_{1}(x)=e^{x}, f_{2}(x)=1, f_{3}(x)=x+1, f_{4}(x)=x-e^{x}.$$"
      ],
      "metadata": {
        "id": "g_FlMLZKUE28"
      }
    },
    {
      "cell_type": "markdown",
      "source": [
        "__Решение__\n",
        "\n",
        "Заметим, что $f_{4}(x)=f_{3}(x)-f_{2}(x)-f_{1}(x)$, то есть вектор $f_{4}(x)$ — линейная комбинация векторов $f_{1}(x)$, $f_{2}(x)$ и $f_{3}(x)$, из чего можно сделать вывод, что $f_{1}(x)=e^{x}, f_{2}(x)=1, f_{3}(x)=x+1, f_{4}(x)=x-e^{x}$ линейно зависимы."
      ],
      "metadata": {
        "id": "ssuA-KYzMd8g"
      }
    },
    {
      "cell_type": "markdown",
      "source": [
        "### __2.__ Исследовать на линейную зависимость:\n",
        "### $$f_{1}(x)=2, f_{2}(x)=x, f_{3}(x)=x^{2}, f_{4}(x)=(x+1)^{2}.$$"
      ],
      "metadata": {
        "id": "ah7KJiylT9hM"
      }
    },
    {
      "cell_type": "markdown",
      "source": [
        "__Решение__\n",
        "\n",
        "Заметим, что $f_{4}(x)=(x+1)^{2}=x^{2}+2x+1$, значит $f_{4}(x)=f_{3}(x)+2f_{2}(x)+1/2*f_{1}(x)$, то есть вектор $f_{4}(x)$ — линейная комбинация векторов $f_{1}(x)$, $f_{2}(x)$ и $f_{3}(x)$, из чего можно сделать вывод, что $f_{1}(x)=2, f_{2}(x)=x, f_{3}(x)=x^{2}, f_{4}(x)=(x+1)^{2}$ линейно зависимы."
      ],
      "metadata": {
        "id": "niZdAY_NPckE"
      }
    },
    {
      "cell_type": "markdown",
      "source": [
        "### __3.__ Найти координаты вектора $x = (2, 3, 5)\\in \\mathbb{R}^{3}$ в базисе $b_{1}=(0, 0, 10)$, $b_{2}=(2, 0, 0)$, $b_{3}=(0, 1, 0)$."
      ],
      "metadata": {
        "id": "gZd3XviBUP9S"
      }
    },
    {
      "cell_type": "markdown",
      "source": [
        "__Решение__\n",
        "\n",
        "Базис линейного пространства $\\mathbb{R}^{3}$ образуют векторы \n",
        "$b_{1}=(0, 0, 10)$, $b_{2}=(2, 0, 0)$, $b_{3}=(0, 1, 0)$.\n",
        "Тогда \n",
        "\n",
        "$$x=(2, 3, 5)=(2,0,0)+(0, 3, 0)+(0, 0, 5)=$$\n",
        "$$=(2, 0, 0)+3\\cdot(0, 1, 0)+1/2\\cdot(0, 0, 10)=1/2b_{1}+b_{2}+3b_{3},$$\n",
        "то есть координатами вектора $x$ в базисе $b_{1}=(0, 0, 10)$, $b_{2}=(2, 0, 0)$, $b_{3}=(0, 1, 0)$ являются $1/2$, $1$, $3$."
      ],
      "metadata": {
        "id": "c9oqPbeBUsOC"
      }
    },
    {
      "cell_type": "markdown",
      "source": [
        "### __4.__ Найти координаты вектора $3x^{2}-2x+2\\in\\mathbb{R}^{3}[x]$:\n",
        "\n",
        "   а) в базисе $1$, $x$, $x^{2}$;\n",
        "\n",
        "   б) в базисе $x^{2}$, $x-1$, $1$."
      ],
      "metadata": {
        "id": "cFYvzeOzYgCT"
      }
    },
    {
      "cell_type": "markdown",
      "source": [
        "a) __Решение__\n",
        "\n",
        "Базис $1$, $x$, $x^{2}$, представим как $a_{1}=(0, 0, 1)$, $a_{2}=(0, 1, 0)$, $a_{3}=(1, 0, 0).$ \n",
        "$$x=(3, -2, 2)=(3,0,0)+(0, -2, 0)+(0, 0, 2)=$$\n",
        "$$=3\\cdot(1, 0, 0)-2\\cdot(0, 1, 0)+2\\cdot(0, 0, 1)=3a_{3}-2a_{2}+2a_{1},$$\n",
        "то есть координатами вектора $x$ в базисе $a_{1}=(0, 0, 1)$, $a_{2}=(0, 1, 0)$, $a_{3}=(1, 0, 0)$ являются $3$, $-2$, $2$."
      ],
      "metadata": {
        "id": "Zt1GU24ThDUj"
      }
    },
    {
      "cell_type": "markdown",
      "source": [
        "б) __Решение__\n",
        "\n",
        "Базис $x^{2}$, $x-1$, $1$, представим как $a_{1}(x)=x^{2}, a_{2}(x)=x-1, a_{3}(x)=1$. Получим $a_{1}=(1, 0, 0)$, $a_{2}=(0, 1, 0)$, $a_{3}=(0, 0, 1).$\n",
        "$$x=(3, -2, 2)=(3,0,0)+(0, -2, 0)+(0, 0, 2)=$$\n",
        "$$=3\\cdot(1, 0, 0)-2\\cdot(0, 1, 0)+2\\cdot(0, 0, 1)=3a_{1}-2a_{2}+2a_{3},$$\n",
        "то есть координатами вектора $x$ в базисе $a_{1}=(1, 0, 0)$, $a_{2}=(0, 1, 0)$, $a_{3}=(0, 0, 1)$ являются $3$, $-2$, $2$."
      ],
      "metadata": {
        "id": "nWkiKgb_kaal"
      }
    },
    {
      "cell_type": "markdown",
      "source": [
        "### __5.__ Установить, является ли линейным подпространством:\n",
        "\n",
        "а) совокупность всех векторов трехмерного пространства, у которых по крайней мере одна из первых двух координат равна нулю;\n",
        "    \n",
        "б) все векторы, являющиеся линейными комбинациями данных векторов  {u1,u2,...,un} ."
      ],
      "metadata": {
        "id": "mlybWLMGmRFH"
      }
    },
    {
      "cell_type": "markdown",
      "source": [
        "a) __Решение__\n",
        "\n",
        "Подпространство является линейным, если совокупность всех векторов трехмерного пространства, у которых одна из первых двух координат равна нулю.\n",
        "Если обе первых координаты равны нулю, то не является."
      ],
      "metadata": {
        "id": "piyPA9eVqDrV"
      }
    },
    {
      "cell_type": "markdown",
      "source": [
        "a) __Решение__\n",
        "\n",
        "Все векторы, являющиеся линейными комбинациями данных векторов  {u1,u2,...,un}, являются линейным подпространством."
      ],
      "metadata": {
        "id": "5IEbERivsAoq"
      }
    },
    {
      "cell_type": "markdown",
      "source": [
        "# Линейное пространство. Основные понятия. Часть 2"
      ],
      "metadata": {
        "id": "9yIyyGzuxgyW"
      }
    },
    {
      "cell_type": "markdown",
      "source": [
        "### __1.__ Найти скалярное произведение векторов $x, y \\in \\mathbb{R}$:<br>\n",
        "а) $x=(0,-3, 6),~y=(-4, 7, 9);$<br>\n",
        "б) $x=(7, -4, 0, 1),~y=(-3, 1, 11, 2).$"
      ],
      "metadata": {
        "id": "KhwSZJsIxmqR"
      }
    },
    {
      "cell_type": "code",
      "source": [
        "import numpy as np"
      ],
      "metadata": {
        "id": "4x1lcdJqxssS"
      },
      "execution_count": null,
      "outputs": []
    },
    {
      "cell_type": "markdown",
      "source": [
        "a) __Решение__"
      ],
      "metadata": {
        "id": "QZosoWOCyMnA"
      }
    },
    {
      "cell_type": "code",
      "source": [
        "x = np.array([0, -3, 6])\n",
        "y = np.array([-4, 7, 9])\n",
        "print(f'Скалярное произведение x и y:\\n{x @ y}')"
      ],
      "metadata": {
        "colab": {
          "base_uri": "https://localhost:8080/"
        },
        "id": "rzCs4IWBx9T-",
        "outputId": "af193a6f-0e5f-4822-9375-0537390e97a1"
      },
      "execution_count": null,
      "outputs": [
        {
          "output_type": "stream",
          "name": "stdout",
          "text": [
            "Скалярное произведение x и y:\n",
            "33\n"
          ]
        }
      ]
    },
    {
      "cell_type": "markdown",
      "source": [
        "б) __Решение__"
      ],
      "metadata": {
        "id": "VR6mnGHTyzXS"
      }
    },
    {
      "cell_type": "code",
      "source": [
        "x = np.array([7,-4,0,1])\n",
        "y = np.array([-3,1,11,2])\n",
        "print(f'Скалярное произведение x и y:\\n{np.dot(x, y)}')"
      ],
      "metadata": {
        "colab": {
          "base_uri": "https://localhost:8080/"
        },
        "id": "x_CE-9jPyhug",
        "outputId": "252b37e5-fcce-4429-988c-4245d09c4e9c"
      },
      "execution_count": null,
      "outputs": [
        {
          "output_type": "stream",
          "name": "stdout",
          "text": [
            "Скалярное произведение x и y:\n",
            "-23\n"
          ]
        }
      ]
    },
    {
      "cell_type": "markdown",
      "source": [
        "### 2. Найти нормы векторов  (4,2,4)  и  (12,3,4)  и угол между ними."
      ],
      "metadata": {
        "id": "5xR1NxHVzOhh"
      }
    },
    {
      "cell_type": "code",
      "source": [
        "from numpy.linalg import norm"
      ],
      "metadata": {
        "id": "sW1gYdWSzYxK"
      },
      "execution_count": null,
      "outputs": []
    },
    {
      "cell_type": "code",
      "source": [
        "x = np.array([4, 2, 4])\n",
        "y = np.array([12, 3, 4])"
      ],
      "metadata": {
        "id": "Z8-yFStuzyBO"
      },
      "execution_count": null,
      "outputs": []
    },
    {
      "cell_type": "code",
      "source": [
        "print(f'Манхэттенская норма вектора x:\\n{norm(x, ord=1)}')\n",
        "print(f'Манхэттенская норма вектора y:\\n{norm(y, ord=1)}')"
      ],
      "metadata": {
        "colab": {
          "base_uri": "https://localhost:8080/"
        },
        "id": "W-H_jItl0HCq",
        "outputId": "46a9668c-0197-41c3-813e-e9bd546dd06e"
      },
      "execution_count": null,
      "outputs": [
        {
          "output_type": "stream",
          "name": "stdout",
          "text": [
            "Манхэттенская норма вектора x:\n",
            "10.0\n",
            "Манхэттенская норма вектора y:\n",
            "19.0\n"
          ]
        }
      ]
    },
    {
      "cell_type": "code",
      "source": [
        "print(f'Евклидова норма вектора x:\\n{norm(x, ord=2)}')\n",
        "print(f'Евклидова норма вектора y:\\n{norm(y, ord=2)}')"
      ],
      "metadata": {
        "colab": {
          "base_uri": "https://localhost:8080/"
        },
        "id": "NvJjU6K91ETa",
        "outputId": "e996d276-ec75-4d05-83fd-b0d5552364b0"
      },
      "execution_count": null,
      "outputs": [
        {
          "output_type": "stream",
          "name": "stdout",
          "text": [
            "Евклидова норма вектора x:\n",
            "6.0\n",
            "Евклидова норма вектора y:\n",
            "13.0\n"
          ]
        }
      ]
    },
    {
      "cell_type": "code",
      "source": [
        "cos_phi = np.dot(x, y) / norm(x) / norm(y)\n",
        "print(f'Угол между x и y: {np.arccos(cos_phi):.2f}')"
      ],
      "metadata": {
        "id": "-ijY7_IG0Ocx",
        "colab": {
          "base_uri": "https://localhost:8080/"
        },
        "outputId": "e76fad23-0429-483d-8189-a1e38dc192cf"
      },
      "execution_count": null,
      "outputs": [
        {
          "output_type": "stream",
          "name": "stdout",
          "text": [
            "Угол между x и y: 0.46\n"
          ]
        }
      ]
    },
    {
      "cell_type": "markdown",
      "source": [
        "### 3. Будет ли линейное пространство евклидовым, если за скалярное произведение принять:\n",
        "а) произведение длин векторов;<br>\n",
        "б) утроенное обычное скалярное произведение векторов?"
      ],
      "metadata": {
        "id": "9bcxjs1c2v_b"
      }
    },
    {
      "cell_type": "markdown",
      "source": [
        "a) Линейное пространство не будет евклидовым, так как не будет выполняться скалярное произведение:\n",
        "$$(x, y) = \\left|x\\right|\\cdot\\left|y\\right|\\cdot cos\\alpha$$"
      ],
      "metadata": {
        "id": "rBQl-NL930dA"
      }
    },
    {
      "cell_type": "markdown",
      "source": [
        "б)  Линейное пространство будет евклидовым, так как будет выполняться аксиома:\n",
        "$$(\\lambda x, y)=\\lambda(x, y)$$"
      ],
      "metadata": {
        "id": "QQx1ikOS4odI"
      }
    },
    {
      "cell_type": "markdown",
      "source": [
        "###4. Какие из нижеперечисленных векторов образуют ортонормированный базис в линейном пространстве $\\mathbb{R}^{3}$:<br>\n",
        "а) $(1,0,0),(0,0,1);$ <br>\n",
        "б) $(1/\\sqrt{2},-1/\\sqrt{2},0),(1/\\sqrt{2},1/\\sqrt{2},0), (0,0,1);$<br>\n",
        "в) $(1/2, -1/2, 0), (0, 1/2, 1/2), (0,0,1);$<br>\n",
        "г) $(1,0,0),(0,1,0),(0,0,1)?$"
      ],
      "metadata": {
        "id": "SznUe2nY5JE0"
      }
    },
    {
      "cell_type": "markdown",
      "source": [
        "а) не образуют ортонормированный базис, потому что только 2 вектора, а пространство $\\mathbb{R}^{3}$"
      ],
      "metadata": {
        "id": "lEMqoBackG_f"
      }
    },
    {
      "cell_type": "code",
      "source": [
        "a = np.array([1/np.sqrt(2), -1/np.sqrt(2), 0])\n",
        "b =  np.array([1/np.sqrt(2), 1/np.sqrt(2), 0])\n",
        "c = np.array([0, 0, 1])\n",
        "a_b_c = a[0] * b[0] * c[0] + a[1] * b[1] * c[1] + a[2] * b[2] * c[2]\n",
        "a_b_c"
      ],
      "metadata": {
        "id": "tqTTdnga2tIh",
        "colab": {
          "base_uri": "https://localhost:8080/"
        },
        "outputId": "d5c09eb4-d56c-482f-a5a9-e8e655034bbf"
      },
      "execution_count": null,
      "outputs": [
        {
          "output_type": "execute_result",
          "data": {
            "text/plain": [
              "0.0"
            ]
          },
          "metadata": {},
          "execution_count": 10
        }
      ]
    },
    {
      "cell_type": "markdown",
      "source": [
        "б) векторы a, b и с образуют ортонормированный базис, так как скалярное произведение равно нулю"
      ],
      "metadata": {
        "id": "VbnXVM5Rljkw"
      }
    },
    {
      "cell_type": "code",
      "source": [
        "a = np.array([1/2, -1/2, 0])\n",
        "b =  np.array([1/2, 1/2, 0])\n",
        "c = np.array([0, 0, 1])\n",
        "a_b_c = a[0] * b[0] * c[0] + a[1] * b[1] * c[1] + a[2] * b[2] * c[2]\n",
        "a_b_c"
      ],
      "metadata": {
        "colab": {
          "base_uri": "https://localhost:8080/"
        },
        "id": "D68Smv95mHYY",
        "outputId": "d074c4fc-e4b9-46e3-ed29-bf165a02f5a5"
      },
      "execution_count": null,
      "outputs": [
        {
          "output_type": "execute_result",
          "data": {
            "text/plain": [
              "0.0"
            ]
          },
          "metadata": {},
          "execution_count": 11
        }
      ]
    },
    {
      "cell_type": "markdown",
      "source": [
        "в) векторы a, b и с образуют ортонормированный базис, так как скалярное произведение равно нулю"
      ],
      "metadata": {
        "id": "WieDGAa5mNE9"
      }
    },
    {
      "cell_type": "code",
      "source": [
        "a = np.array([1, 0, 0])\n",
        "b =  np.array([0, 1, 0])\n",
        "c = np.array([0, 0, 1])\n",
        "a_b_c = a[0] * b[0] * c[0] + a[1] * b[1] * c[1] + a[2] * b[2] * c[2]\n",
        "a_b_c"
      ],
      "metadata": {
        "colab": {
          "base_uri": "https://localhost:8080/"
        },
        "id": "7LrX7oqSmTad",
        "outputId": "908a5181-382e-45c9-fe8b-377883cfdcfe"
      },
      "execution_count": null,
      "outputs": [
        {
          "output_type": "execute_result",
          "data": {
            "text/plain": [
              "0"
            ]
          },
          "metadata": {},
          "execution_count": 12
        }
      ]
    },
    {
      "cell_type": "markdown",
      "source": [
        "г) векторы a, b и с образуют ортонормированный базис, так как скалярное произведение равно нулю"
      ],
      "metadata": {
        "id": "pJgkWAyemUsL"
      }
    }
  ]
}